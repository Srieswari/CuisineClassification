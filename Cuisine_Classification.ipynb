{
  "cells": [
    {
      "cell_type": "markdown",
      "metadata": {
        "id": "view-in-github",
        "colab_type": "text"
      },
      "source": [
        "<a href=\"https://colab.research.google.com/github/Srieswari/CuisinePred/blob/main/Cuisine_Prediction.ipynb\" target=\"_parent\"><img src=\"https://colab.research.google.com/assets/colab-badge.svg\" alt=\"Open In Colab\"/></a>"
      ]
    },
    {
      "cell_type": "code",
      "execution_count": 2,
      "metadata": {
        "colab": {
          "base_uri": "https://localhost:8080/"
        },
        "id": "rZ4flOc_R-ZA",
        "outputId": "bfa9b351-7d38-4865-85ee-7423497630e0"
      },
      "outputs": [
        {
          "output_type": "stream",
          "name": "stdout",
          "text": [
            "Collecting fasttext\n",
            "  Downloading fasttext-0.9.2.tar.gz (68 kB)\n",
            "\u001b[?25l     \u001b[90m━━━━━━━━━━━━━━━━━━━━━━━━━━━━━━━━━━━━━━━━\u001b[0m \u001b[32m0.0/68.8 kB\u001b[0m \u001b[31m?\u001b[0m eta \u001b[36m-:--:--\u001b[0m\r\u001b[2K     \u001b[90m━━━━━━━━━━━━━━━━━━━━━━━━━━━━━━━━━━━━━━━━\u001b[0m \u001b[32m68.8/68.8 kB\u001b[0m \u001b[31m3.3 MB/s\u001b[0m eta \u001b[36m0:00:00\u001b[0m\n",
            "\u001b[?25h  Preparing metadata (setup.py) ... \u001b[?25l\u001b[?25hdone\n",
            "Collecting pybind11>=2.2 (from fasttext)\n",
            "  Using cached pybind11-2.10.4-py3-none-any.whl (222 kB)\n",
            "Requirement already satisfied: setuptools>=0.7.0 in /usr/local/lib/python3.10/dist-packages (from fasttext) (67.7.2)\n",
            "Requirement already satisfied: numpy in /usr/local/lib/python3.10/dist-packages (from fasttext) (1.22.4)\n",
            "Building wheels for collected packages: fasttext\n",
            "  Building wheel for fasttext (setup.py) ... \u001b[?25l\u001b[?25hdone\n",
            "  Created wheel for fasttext: filename=fasttext-0.9.2-cp310-cp310-linux_x86_64.whl size=4393318 sha256=218169f0f42134b5bc928c98a086f478edf3e79af3c9b31cf6fedafe898a95bd\n",
            "  Stored in directory: /root/.cache/pip/wheels/a5/13/75/f811c84a8ab36eedbaef977a6a58a98990e8e0f1967f98f394\n",
            "Successfully built fasttext\n",
            "Installing collected packages: pybind11, fasttext\n",
            "Successfully installed fasttext-0.9.2 pybind11-2.10.4\n"
          ]
        }
      ],
      "source": [
        "!pip install fasttext\n",
        "import fasttext"
      ]
    },
    {
      "cell_type": "markdown",
      "source": [
        "# **checking the usability of pretrained models:**\n"
      ],
      "metadata": {
        "id": "pKTPdHFOREJp"
      }
    },
    {
      "cell_type": "code",
      "execution_count": 5,
      "metadata": {
        "id": "IlXH8jRj6b7p",
        "colab": {
          "base_uri": "https://localhost:8080/"
        },
        "outputId": "845b59b6-14c5-42c9-fe8b-96e2c514d340"
      },
      "outputs": [
        {
          "output_type": "stream",
          "name": "stdout",
          "text": [
            "--2023-07-10 05:30:18--  https://dl.fbaipublicfiles.com/fasttext/vectors-crawl/cc.en.300.bin.gz\n",
            "Resolving dl.fbaipublicfiles.com (dl.fbaipublicfiles.com)... 3.162.163.11, 3.162.163.19, 3.162.163.34, ...\n",
            "Connecting to dl.fbaipublicfiles.com (dl.fbaipublicfiles.com)|3.162.163.11|:443... connected.\n",
            "HTTP request sent, awaiting response... 200 OK\n",
            "Length: 4503593528 (4.2G) [application/octet-stream]\n",
            "Saving to: ‘cc.en.300.bin.gz’\n",
            "\n",
            "cc.en.300.bin.gz    100%[===================>]   4.19G   254MB/s    in 18s     \n",
            "\n",
            "2023-07-10 05:30:36 (239 MB/s) - ‘cc.en.300.bin.gz’ saved [4503593528/4503593528]\n",
            "\n"
          ]
        }
      ],
      "source": [
        "!wget https://dl.fbaipublicfiles.com/fasttext/vectors-crawl/cc.en.300.bin.gz"
      ]
    },
    {
      "cell_type": "code",
      "execution_count": 6,
      "metadata": {
        "id": "e_hmKtxR6fNn"
      },
      "outputs": [],
      "source": [
        "!gunzip cc.en.300.bin.gz"
      ]
    },
    {
      "cell_type": "code",
      "execution_count": 7,
      "metadata": {
        "id": "f1w6kX1i38Mt",
        "colab": {
          "base_uri": "https://localhost:8080/"
        },
        "outputId": "f71ede94-dd22-44fd-e3ca-15bacd54bb43"
      },
      "outputs": [
        {
          "output_type": "stream",
          "name": "stderr",
          "text": [
            "Warning : `load_model` does not return WordVectorModel or SupervisedModel any more, but a `FastText` object which is very similar.\n"
          ]
        },
        {
          "output_type": "execute_result",
          "data": {
            "text/plain": [
              "[(0.7517593502998352, 'bad'),\n",
              " (0.7426098585128784, 'great'),\n",
              " (0.7299689054489136, 'decent'),\n",
              " (0.7123614549636841, 'nice'),\n",
              " (0.6796907186508179, 'Good'),\n",
              " (0.6737031936645508, 'excellent'),\n",
              " (0.669592022895813, 'goood'),\n",
              " (0.6602178812026978, 'ggod'),\n",
              " (0.6479219794273376, 'semi-good'),\n",
              " (0.6417751908302307, 'good.Good')]"
            ]
          },
          "metadata": {},
          "execution_count": 7
        }
      ],
      "source": [
        "model_en = fasttext.load_model(\"cc.en.300.bin\")\n",
        "model_en.get_nearest_neighbors('good')"
      ]
    },
    {
      "cell_type": "code",
      "execution_count": 8,
      "metadata": {
        "id": "fJqBlpBV7LMl",
        "colab": {
          "base_uri": "https://localhost:8080/"
        },
        "outputId": "34ccf5df-e5bf-4b20-f516-74280ad6fef7"
      },
      "outputs": [
        {
          "output_type": "execute_result",
          "data": {
            "text/plain": [
              "[(0.5384978652000427,\n",
              "  'ReportsTabloidCrimeYakuzaTokyoGinzaIkebukuroKabukichoRoppongiShibuyaShimbashiShinjukuUenoJapanChibaFukuokaKobeKyotoNagoyaOkinawaOsakaSaitamaYokohamaSportsBaseballHorse'),\n",
              " (0.5373231768608093,\n",
              "  'NoidaVaranasiBareillyMathuraAligarhMoradabadSaharanpurBijnorJaunpurGorakhpurMuzaffarnagarSultanpurDehradunHaridwarNainitalRoorkeeGarhwalBardhamanMurshidabadHooghlyMedinipurNorth'),\n",
              " (0.5331498980522156,\n",
              "  'NagarBhiwaniKarnalKurukshetraMahendragarhSirsaPanipatJindJhajjarRewariSolanShimlaKangraHamirpurMandiJammuSrinagarRanchiJamshedpurMangaloreMysoreBelgaumGulbargaTumkurBijapurDavanagereDharwadShimogaUdupiHassanBidarHubliKolarBagalkotKannadaChitradurgaMandyaGadagBellaryRaichurThiruvananthapuramThrissurErnakulamMalappuramKochiKottayamKannurKozhikodeKollamPalakkadPathanamthittaCalicutTrivandrumAlappuzhaKasaragodBhopalIndoreGwaliorJabalpurUjjainSagarChhatarpurPuneNagpurAurangabadNashikKolhapurAhmed'),\n",
              " (0.5117493271827698,\n",
              "  'NagarMehsanaVadodaraAnandBhavnagarKachchhSabarkanthaJunagadhJamnagarGurgaonRohtakFaridabadSonepatHisarAmbalaYamuna'),\n",
              " (0.5094584226608276, 'CityDaeguKwangjuSeoulUlsanYeosuVayama.com'),\n",
              " (0.5093042850494385,\n",
              "  'SahibKapurthalaJaipurUdaipurAlwarJodhpurAjmerSikarKotaGanganagarBikanerJhunjhunuHanumangarhGangtokCoimbatoreNamakkalKanyakumariSalemMaduraiVelloreKanchipuramErodeTirunelveliThanjavurVillupuramDindigulTrichyTiruvannamalaiCuddaloreThiruchirapalliThiruvallurPudukkottaiDharmapuriThiruchirapalliThoothukudiSivagangaPerambalurVirudhunagarTiruppurNagapattinamKarurRangareddiWarangalNalgondaKarim'),\n",
              " (0.5052895545959473, 'PyshmaRevdaBeryozovskySredneuralsk'),\n",
              " (0.504956066608429, 'BrazilAracajuBauruBelemBelo'),\n",
              " (0.5035199522972107,\n",
              "  'ItalyAlgheroAnconaBariBolognaBrindisiCagliariCataniaFlorenceGenoaLamezia'),\n",
              " (0.4999712109565735,\n",
              "  'MumbaiBeedDhuleWardhaRaigarhRatnagiriLaturYavatmalChandrapurNandedAkolaImphalShillongAizawlDimapurBhubaneswarCuttackPondicherryPatialaMohaliLudhianaAmritsarJalandharBathindaHoshiarpurSangrurGurdaspurMogaFirozpurFatehgarh')]"
            ]
          },
          "metadata": {},
          "execution_count": 8
        }
      ],
      "source": [
        "model_en.get_nearest_neighbors(\"saragva\")"
      ]
    },
    {
      "cell_type": "markdown",
      "source": [
        "#**here we can see that the pretrained model was not helping in getting similar words for a food item , so we can train our model according to our requirement**"
      ],
      "metadata": {
        "id": "S3PJs_PSSseT"
      }
    },
    {
      "cell_type": "code",
      "execution_count": 9,
      "metadata": {
        "id": "X2-LGFJCY6gO"
      },
      "outputs": [],
      "source": [
        "import pandas as pd"
      ]
    },
    {
      "cell_type": "markdown",
      "metadata": {
        "id": "EuI1hu3p4SOL"
      },
      "source": [
        "#**run the following cell to directly read data from git**"
      ]
    },
    {
      "cell_type": "code",
      "execution_count": 10,
      "metadata": {
        "colab": {
          "base_uri": "https://localhost:8080/",
          "height": 363
        },
        "id": "elpi5zqz39L1",
        "outputId": "46a2cb6b-cdef-4f24-8844-13975d38c1c8"
      },
      "outputs": [
        {
          "output_type": "stream",
          "name": "stdout",
          "text": [
            "(5937, 9)\n"
          ]
        },
        {
          "output_type": "execute_result",
          "data": {
            "text/plain": [
              "                                TranslatedRecipeName  \\\n",
              "0                               Masala Karela Recipe   \n",
              "1                         Spicy Tomato Rice (Recipe)   \n",
              "2  Ragi Semiya Upma Recipe - Ragi Millet Vermicel...   \n",
              "\n",
              "                               TranslatedIngredients  TotalTimeInMins  \\\n",
              "0  1 tablespoon Red Chilli powder,3 tablespoon Gr...               45   \n",
              "1   2 teaspoon cashew - or peanuts, 1/2 Teaspoon ...               15   \n",
              "2  1 Onion - sliced,1 teaspoon White Urad Dal (Sp...               50   \n",
              "\n",
              "                Cuisine                             TranslatedInstructions  \\\n",
              "0                Indian  To begin making the Masala Karela Recipe,de-se...   \n",
              "1  South Indian Recipes  To make tomato puliogere, first cut the tomato...   \n",
              "2  South Indian Recipes  To begin making the Ragi Vermicelli Recipe, fi...   \n",
              "\n",
              "                                                 URL  \\\n",
              "0  https://www.archanaskitchen.com/masala-karela-...   \n",
              "1  https://www.archanaskitchen.com/spicy-tomato-r...   \n",
              "2  https://www.archanaskitchen.com/ragi-vermicell...   \n",
              "\n",
              "                                 Cleaned-Ingredients  \\\n",
              "0  salt,amchur (dry mango powder),karela (bitter ...   \n",
              "1  tomato,salt,chickpea lentils,green chilli,rice...   \n",
              "2  salt,rice vermicelli noodles (thin),asafoetida...   \n",
              "\n",
              "                                           image-url  Ingredient-count  \n",
              "0  https://www.archanaskitchen.com/images/archana...                10  \n",
              "1  https://www.archanaskitchen.com/images/archana...                12  \n",
              "2  https://www.archanaskitchen.com/images/archana...                12  "
            ],
            "text/html": [
              "\n",
              "  <div id=\"df-4e6d4d9e-893b-4a58-8f68-6b99cb6f5796\">\n",
              "    <div class=\"colab-df-container\">\n",
              "      <div>\n",
              "<style scoped>\n",
              "    .dataframe tbody tr th:only-of-type {\n",
              "        vertical-align: middle;\n",
              "    }\n",
              "\n",
              "    .dataframe tbody tr th {\n",
              "        vertical-align: top;\n",
              "    }\n",
              "\n",
              "    .dataframe thead th {\n",
              "        text-align: right;\n",
              "    }\n",
              "</style>\n",
              "<table border=\"1\" class=\"dataframe\">\n",
              "  <thead>\n",
              "    <tr style=\"text-align: right;\">\n",
              "      <th></th>\n",
              "      <th>TranslatedRecipeName</th>\n",
              "      <th>TranslatedIngredients</th>\n",
              "      <th>TotalTimeInMins</th>\n",
              "      <th>Cuisine</th>\n",
              "      <th>TranslatedInstructions</th>\n",
              "      <th>URL</th>\n",
              "      <th>Cleaned-Ingredients</th>\n",
              "      <th>image-url</th>\n",
              "      <th>Ingredient-count</th>\n",
              "    </tr>\n",
              "  </thead>\n",
              "  <tbody>\n",
              "    <tr>\n",
              "      <th>0</th>\n",
              "      <td>Masala Karela Recipe</td>\n",
              "      <td>1 tablespoon Red Chilli powder,3 tablespoon Gr...</td>\n",
              "      <td>45</td>\n",
              "      <td>Indian</td>\n",
              "      <td>To begin making the Masala Karela Recipe,de-se...</td>\n",
              "      <td>https://www.archanaskitchen.com/masala-karela-...</td>\n",
              "      <td>salt,amchur (dry mango powder),karela (bitter ...</td>\n",
              "      <td>https://www.archanaskitchen.com/images/archana...</td>\n",
              "      <td>10</td>\n",
              "    </tr>\n",
              "    <tr>\n",
              "      <th>1</th>\n",
              "      <td>Spicy Tomato Rice (Recipe)</td>\n",
              "      <td>2 teaspoon cashew - or peanuts, 1/2 Teaspoon ...</td>\n",
              "      <td>15</td>\n",
              "      <td>South Indian Recipes</td>\n",
              "      <td>To make tomato puliogere, first cut the tomato...</td>\n",
              "      <td>https://www.archanaskitchen.com/spicy-tomato-r...</td>\n",
              "      <td>tomato,salt,chickpea lentils,green chilli,rice...</td>\n",
              "      <td>https://www.archanaskitchen.com/images/archana...</td>\n",
              "      <td>12</td>\n",
              "    </tr>\n",
              "    <tr>\n",
              "      <th>2</th>\n",
              "      <td>Ragi Semiya Upma Recipe - Ragi Millet Vermicel...</td>\n",
              "      <td>1 Onion - sliced,1 teaspoon White Urad Dal (Sp...</td>\n",
              "      <td>50</td>\n",
              "      <td>South Indian Recipes</td>\n",
              "      <td>To begin making the Ragi Vermicelli Recipe, fi...</td>\n",
              "      <td>https://www.archanaskitchen.com/ragi-vermicell...</td>\n",
              "      <td>salt,rice vermicelli noodles (thin),asafoetida...</td>\n",
              "      <td>https://www.archanaskitchen.com/images/archana...</td>\n",
              "      <td>12</td>\n",
              "    </tr>\n",
              "  </tbody>\n",
              "</table>\n",
              "</div>\n",
              "      <button class=\"colab-df-convert\" onclick=\"convertToInteractive('df-4e6d4d9e-893b-4a58-8f68-6b99cb6f5796')\"\n",
              "              title=\"Convert this dataframe to an interactive table.\"\n",
              "              style=\"display:none;\">\n",
              "        \n",
              "  <svg xmlns=\"http://www.w3.org/2000/svg\" height=\"24px\"viewBox=\"0 0 24 24\"\n",
              "       width=\"24px\">\n",
              "    <path d=\"M0 0h24v24H0V0z\" fill=\"none\"/>\n",
              "    <path d=\"M18.56 5.44l.94 2.06.94-2.06 2.06-.94-2.06-.94-.94-2.06-.94 2.06-2.06.94zm-11 1L8.5 8.5l.94-2.06 2.06-.94-2.06-.94L8.5 2.5l-.94 2.06-2.06.94zm10 10l.94 2.06.94-2.06 2.06-.94-2.06-.94-.94-2.06-.94 2.06-2.06.94z\"/><path d=\"M17.41 7.96l-1.37-1.37c-.4-.4-.92-.59-1.43-.59-.52 0-1.04.2-1.43.59L10.3 9.45l-7.72 7.72c-.78.78-.78 2.05 0 2.83L4 21.41c.39.39.9.59 1.41.59.51 0 1.02-.2 1.41-.59l7.78-7.78 2.81-2.81c.8-.78.8-2.07 0-2.86zM5.41 20L4 18.59l7.72-7.72 1.47 1.35L5.41 20z\"/>\n",
              "  </svg>\n",
              "      </button>\n",
              "      \n",
              "  <style>\n",
              "    .colab-df-container {\n",
              "      display:flex;\n",
              "      flex-wrap:wrap;\n",
              "      gap: 12px;\n",
              "    }\n",
              "\n",
              "    .colab-df-convert {\n",
              "      background-color: #E8F0FE;\n",
              "      border: none;\n",
              "      border-radius: 50%;\n",
              "      cursor: pointer;\n",
              "      display: none;\n",
              "      fill: #1967D2;\n",
              "      height: 32px;\n",
              "      padding: 0 0 0 0;\n",
              "      width: 32px;\n",
              "    }\n",
              "\n",
              "    .colab-df-convert:hover {\n",
              "      background-color: #E2EBFA;\n",
              "      box-shadow: 0px 1px 2px rgba(60, 64, 67, 0.3), 0px 1px 3px 1px rgba(60, 64, 67, 0.15);\n",
              "      fill: #174EA6;\n",
              "    }\n",
              "\n",
              "    [theme=dark] .colab-df-convert {\n",
              "      background-color: #3B4455;\n",
              "      fill: #D2E3FC;\n",
              "    }\n",
              "\n",
              "    [theme=dark] .colab-df-convert:hover {\n",
              "      background-color: #434B5C;\n",
              "      box-shadow: 0px 1px 3px 1px rgba(0, 0, 0, 0.15);\n",
              "      filter: drop-shadow(0px 1px 2px rgba(0, 0, 0, 0.3));\n",
              "      fill: #FFFFFF;\n",
              "    }\n",
              "  </style>\n",
              "\n",
              "      <script>\n",
              "        const buttonEl =\n",
              "          document.querySelector('#df-4e6d4d9e-893b-4a58-8f68-6b99cb6f5796 button.colab-df-convert');\n",
              "        buttonEl.style.display =\n",
              "          google.colab.kernel.accessAllowed ? 'block' : 'none';\n",
              "\n",
              "        async function convertToInteractive(key) {\n",
              "          const element = document.querySelector('#df-4e6d4d9e-893b-4a58-8f68-6b99cb6f5796');\n",
              "          const dataTable =\n",
              "            await google.colab.kernel.invokeFunction('convertToInteractive',\n",
              "                                                     [key], {});\n",
              "          if (!dataTable) return;\n",
              "\n",
              "          const docLinkHtml = 'Like what you see? Visit the ' +\n",
              "            '<a target=\"_blank\" href=https://colab.research.google.com/notebooks/data_table.ipynb>data table notebook</a>'\n",
              "            + ' to learn more about interactive tables.';\n",
              "          element.innerHTML = '';\n",
              "          dataTable['output_type'] = 'display_data';\n",
              "          await google.colab.output.renderOutput(dataTable, element);\n",
              "          const docLink = document.createElement('div');\n",
              "          docLink.innerHTML = docLinkHtml;\n",
              "          element.appendChild(docLink);\n",
              "        }\n",
              "      </script>\n",
              "    </div>\n",
              "  </div>\n",
              "  "
            ]
          },
          "metadata": {},
          "execution_count": 10
        }
      ],
      "source": [
        "url = 'https://raw.githubusercontent.com/Srieswari/NLP/main/indian_food.csv'\n",
        "df = pd.read_csv(url)\n",
        "print(df.shape)\n",
        "df.head(3)"
      ]
    },
    {
      "cell_type": "code",
      "execution_count": 11,
      "metadata": {
        "id": "XFffyb3CSBTe"
      },
      "outputs": [],
      "source": [
        "# df = pd.read_csv(\"/content/indian_food.csv\")\n",
        "# print(df.shape)\n",
        "# df.head(3)"
      ]
    },
    {
      "cell_type": "code",
      "execution_count": 12,
      "metadata": {
        "id": "r7t0KzI5qrvs"
      },
      "outputs": [],
      "source": [
        "columns=['Cuisine','TranslatedInstructions']\n",
        "df=df[columns]"
      ]
    },
    {
      "cell_type": "code",
      "execution_count": 13,
      "metadata": {
        "id": "rZpgUKYlUPQ5"
      },
      "outputs": [],
      "source": [
        "import re\n",
        "def preprocess(text):\n",
        "    text = re.sub(r'[^\\w\\s\\']',' ', text)\n",
        "    text = re.sub(r'[ \\n]+', ' ', text)\n",
        "    return text.strip().lower()"
      ]
    },
    {
      "cell_type": "code",
      "execution_count": 14,
      "metadata": {
        "colab": {
          "base_uri": "https://localhost:8080/",
          "height": 140
        },
        "id": "ZYTObVoN2OYT",
        "outputId": "ba6eecfd-637b-4576-d496-fba29bf70a38"
      },
      "outputs": [
        {
          "output_type": "execute_result",
          "data": {
            "text/plain": [
              "'To begin making the Masala Karela Recipe,de-seed the karela and slice.\\nDo not remove the skin as the skin has all the nutrients.\\nAdd the karela to the pressure cooker with 3 tablespoon of water, salt and turmeric powder and pressure cook for three whistles.\\nRelease the pressure immediately and open the lids.\\nKeep aside.Heat oil in a heavy bottomed pan or a kadhai.\\nAdd cumin seeds and let it sizzle.Once the cumin seeds have sizzled, add onions and saute them till it turns golden brown in color.Add the karela, red chilli powder, amchur powder, coriander powder and besan.\\nStir to combine the masalas into the karela.Drizzle a little extra oil on the top and mix again.\\nCover the pan and simmer Masala Karela stirring occasionally until everything comes together well.\\nTurn off the heat.Transfer Masala Karela into a serving bowl and serve.Serve Masala Karela along with Panchmel Dal and Phulka for a weekday meal with your family.\\n'"
            ],
            "application/vnd.google.colaboratory.intrinsic+json": {
              "type": "string"
            }
          },
          "metadata": {},
          "execution_count": 14
        }
      ],
      "source": [
        "df.TranslatedInstructions[0]"
      ]
    },
    {
      "cell_type": "code",
      "execution_count": 15,
      "metadata": {
        "id": "5vE3AcOD2JaU"
      },
      "outputs": [],
      "source": [
        "df.TranslatedInstructions = df.TranslatedInstructions.map(preprocess)"
      ]
    },
    {
      "cell_type": "code",
      "execution_count": 16,
      "metadata": {
        "id": "PrID4VMJ0Lm3"
      },
      "outputs": [],
      "source": [
        "import spacy\n",
        "nlp = spacy.load('en_core_web_sm')"
      ]
    },
    {
      "cell_type": "code",
      "execution_count": 17,
      "metadata": {
        "id": "GnfxrLQ-6uON"
      },
      "outputs": [],
      "source": [
        "def preprocess1(text):\n",
        "    doc = nlp(text)\n",
        "    return \" \".join([token.lemma_ for token in doc if not token.is_stop])"
      ]
    },
    {
      "cell_type": "code",
      "execution_count": 18,
      "metadata": {
        "id": "BqIriFPoydBo"
      },
      "outputs": [],
      "source": [
        "df.TranslatedInstructions  = df.TranslatedInstructions.map(preprocess1)"
      ]
    },
    {
      "cell_type": "code",
      "execution_count": 19,
      "metadata": {
        "colab": {
          "base_uri": "https://localhost:8080/",
          "height": 105
        },
        "id": "viUQb7i02bNd",
        "outputId": "6f3c81a2-3ece-46be-8ff4-13b9aad0374d"
      },
      "outputs": [
        {
          "output_type": "execute_result",
          "data": {
            "text/plain": [
              "'begin make masala karela recipe de seed karela slice remove skin skin nutrient add karela pressure cooker 3 tablespoon water salt turmeric powder pressure cook whistle release pressure immediately open lid aside heat oil heavy bottomed pan kadhai add cumin seed let sizzle cumin seed sizzle add onion saute till turn golden brown color add karela red chilli powder amchur powder coriander powder besan stir combine masala karela drizzle little extra oil mix cover pan simmer masala karela stir occasionally come turn heat transfer masala karela serve bowl serve serve masala karela panchmel dal phulka weekday meal family'"
            ],
            "application/vnd.google.colaboratory.intrinsic+json": {
              "type": "string"
            }
          },
          "metadata": {},
          "execution_count": 19
        }
      ],
      "source": [
        "df.TranslatedInstructions[0]"
      ]
    },
    {
      "cell_type": "code",
      "execution_count": 20,
      "metadata": {
        "id": "2d8Qu-4EbtDR"
      },
      "outputs": [],
      "source": [
        "df1=df['Cuisine'].value_counts()"
      ]
    },
    {
      "cell_type": "code",
      "execution_count": 21,
      "metadata": {
        "id": "ZSRWW9YDb8Dq"
      },
      "outputs": [],
      "source": [
        "droplist = df1[df1 <= 10].index"
      ]
    },
    {
      "cell_type": "code",
      "execution_count": 22,
      "metadata": {
        "id": "OtVYJtXMdX2Z"
      },
      "outputs": [],
      "source": [
        "df = df[~df['Cuisine'].isin(droplist)]"
      ]
    },
    {
      "cell_type": "code",
      "execution_count": 23,
      "metadata": {
        "colab": {
          "base_uri": "https://localhost:8080/"
        },
        "id": "1lGI0ufcdoh-",
        "outputId": "a894a3d7-3330-421c-840e-f8d606244612"
      },
      "outputs": [
        {
          "output_type": "execute_result",
          "data": {
            "text/plain": [
              "Continental                 952\n",
              "Indian                      927\n",
              "North Indian Recipes        763\n",
              "South Indian Recipes        557\n",
              "Italian Recipes             231\n",
              "Maharashtrian Recipes       152\n",
              "Bengali Recipes             150\n",
              "Karnataka                   138\n",
              "Tamil Nadu                  133\n",
              "Kerala Recipes              133\n",
              "Fusion                      130\n",
              "Mexican                     116\n",
              "Andhra                      109\n",
              "Rajasthani                   99\n",
              "Gujarati Recipes﻿            96\n",
              "Goan Recipes                 85\n",
              "Asian                        67\n",
              "Chettinad                    65\n",
              "Thai                         63\n",
              "Punjabi                      61\n",
              "Chinese                      56\n",
              "French                       53\n",
              "Middle Eastern               49\n",
              "Mangalorean                  45\n",
              "Kashmiri                     44\n",
              "Indo Chinese                 43\n",
              "Parsi Recipes                36\n",
              "Awadhi                       33\n",
              "Konkan                       32\n",
              "Sindhi                       30\n",
              "Mediterranean                28\n",
              "Assamese                     28\n",
              "Hyderabadi                   26\n",
              "Oriya Recipes                26\n",
              "Mughlai                      25\n",
              "Bihari                       25\n",
              "European                     20\n",
              "African                      18\n",
              "North East India Recipes     17\n",
              "Greek                        16\n",
              "Himachal                     15\n",
              "Udupi                        15\n",
              "North Karnataka              14\n",
              "Coorg                        14\n",
              "Sri Lankan                   14\n",
              "Japanese                     13\n",
              "Coastal Karnataka            12\n",
              "Uttar Pradesh                12\n",
              "Vietnamese                   11\n",
              "Malabar                      11\n",
              "Lucknowi                     11\n",
              "Name: Cuisine, dtype: int64"
            ]
          },
          "metadata": {},
          "execution_count": 23
        }
      ],
      "source": [
        "df['Cuisine'].value_counts()"
      ]
    },
    {
      "cell_type": "code",
      "execution_count": 24,
      "metadata": {
        "colab": {
          "base_uri": "https://localhost:8080/"
        },
        "id": "rMrXeJHxf3GL",
        "outputId": "a6662d8e-ecf9-4fc3-baff-1ce835198238"
      },
      "outputs": [
        {
          "output_type": "execute_result",
          "data": {
            "text/plain": [
              "51"
            ]
          },
          "metadata": {},
          "execution_count": 24
        }
      ],
      "source": [
        "len(df['Cuisine'].unique())"
      ]
    },
    {
      "cell_type": "markdown",
      "metadata": {
        "id": "bQngnjsdfk4e"
      },
      "source": [
        "#**after removing the cusines which didnt had enough recipes also we got 5800 recipes with 51 cuisines do lets try to put these cuisines into major 4-5 categories**"
      ]
    },
    {
      "cell_type": "code",
      "execution_count": 25,
      "metadata": {
        "colab": {
          "base_uri": "https://localhost:8080/"
        },
        "id": "1KAHjLQPqG__",
        "outputId": "1e18227f-9f5b-46f5-9237-960da07a112f"
      },
      "outputs": [
        {
          "output_type": "stream",
          "name": "stderr",
          "text": [
            "<ipython-input-25-e388eaab7b54>:1: SettingWithCopyWarning: \n",
            "A value is trying to be set on a copy of a slice from a DataFrame.\n",
            "Try using .loc[row_indexer,col_indexer] = value instead\n",
            "\n",
            "See the caveats in the documentation: https://pandas.pydata.org/pandas-docs/stable/user_guide/indexing.html#returning-a-view-versus-a-copy\n",
            "  df['MajorCuisine'] = df['Cuisine'].replace(['South Indian Recipes','Karnataka','Tamil Nadu','Kerala Recipes','Andhra','Chettinad','Malabar','Mangalorean','Konkan','Hyderabadi','Coorg','Coastal Karnataka'], 'SouthIndian') \\\n"
          ]
        }
      ],
      "source": [
        "df['MajorCuisine'] = df['Cuisine'].replace(['South Indian Recipes','Karnataka','Tamil Nadu','Kerala Recipes','Andhra','Chettinad','Malabar','Mangalorean','Konkan','Hyderabadi','Coorg','Coastal Karnataka'], 'SouthIndian') \\\n",
        ".replace(['North Indian Recipes','Maharashtrian Recipes','Bengali Recipes','Rajasthani','Gujarati Recipes﻿','Punjabi','Kashmiri','Assamese','Lucknowi','Uttar Pradesh','Himachal','Udupi','North Karnataka','North East India Recipes','Bihari','Oriya Recipes','Sindhi','Awadhi','Mughlai'],'NorthIndian') \\\n",
        ".replace(['Continental','European','Italian Recipes','French,Greek'],'Continental') \\\n",
        ".replace(['Fusion','Indo Chinese'],'Fusion') \\\n",
        ".replace(['Asian','Chinese','Japanese'],'Asian') \\\n",
        ".replace(['Indian','Goan Recipes','Parsi Recipes'],'Indian')"
      ]
    },
    {
      "cell_type": "code",
      "execution_count": 26,
      "metadata": {
        "colab": {
          "base_uri": "https://localhost:8080/",
          "height": 423
        },
        "id": "Y7eydckNe6dY",
        "outputId": "3771c277-b069-457d-e7a2-589bc7e33b80"
      },
      "outputs": [
        {
          "output_type": "execute_result",
          "data": {
            "text/plain": [
              "                   Cuisine                             TranslatedInstructions  \\\n",
              "0                   Indian  begin make masala karela recipe de seed karela...   \n",
              "1     South Indian Recipes  tomato puliogere cut tomato mixer grinder pure...   \n",
              "2     South Indian Recipes  begin make ragi vermicelli recipe steam ragi v...   \n",
              "3                   Andhra  begin make gongura chicken curry recipe prep i...   \n",
              "4                   Andhra  andhra style alam pachadi heat oil pan add len...   \n",
              "...                    ...                                                ...   \n",
              "5932                Indian  begin make saffron paneer peda recipe paneer r...   \n",
              "5933       Italian Recipes  begin make italian arancini rice ball recipe c...   \n",
              "5934                Indian  begin make quinoa phirnee recipe place saucepa...   \n",
              "5935                Andhra  begin make ullikadala pulusu recipe spring oni...   \n",
              "5936              Kashmiri  begin make kashmiri kokur yakhni recipe wash c...   \n",
              "\n",
              "     MajorCuisine  \n",
              "0          Indian  \n",
              "1     SouthIndian  \n",
              "2     SouthIndian  \n",
              "3     SouthIndian  \n",
              "4     SouthIndian  \n",
              "...           ...  \n",
              "5932       Indian  \n",
              "5933  Continental  \n",
              "5934       Indian  \n",
              "5935  SouthIndian  \n",
              "5936  NorthIndian  \n",
              "\n",
              "[5819 rows x 3 columns]"
            ],
            "text/html": [
              "\n",
              "  <div id=\"df-b132aacc-5506-4e27-9003-037dd4809e71\">\n",
              "    <div class=\"colab-df-container\">\n",
              "      <div>\n",
              "<style scoped>\n",
              "    .dataframe tbody tr th:only-of-type {\n",
              "        vertical-align: middle;\n",
              "    }\n",
              "\n",
              "    .dataframe tbody tr th {\n",
              "        vertical-align: top;\n",
              "    }\n",
              "\n",
              "    .dataframe thead th {\n",
              "        text-align: right;\n",
              "    }\n",
              "</style>\n",
              "<table border=\"1\" class=\"dataframe\">\n",
              "  <thead>\n",
              "    <tr style=\"text-align: right;\">\n",
              "      <th></th>\n",
              "      <th>Cuisine</th>\n",
              "      <th>TranslatedInstructions</th>\n",
              "      <th>MajorCuisine</th>\n",
              "    </tr>\n",
              "  </thead>\n",
              "  <tbody>\n",
              "    <tr>\n",
              "      <th>0</th>\n",
              "      <td>Indian</td>\n",
              "      <td>begin make masala karela recipe de seed karela...</td>\n",
              "      <td>Indian</td>\n",
              "    </tr>\n",
              "    <tr>\n",
              "      <th>1</th>\n",
              "      <td>South Indian Recipes</td>\n",
              "      <td>tomato puliogere cut tomato mixer grinder pure...</td>\n",
              "      <td>SouthIndian</td>\n",
              "    </tr>\n",
              "    <tr>\n",
              "      <th>2</th>\n",
              "      <td>South Indian Recipes</td>\n",
              "      <td>begin make ragi vermicelli recipe steam ragi v...</td>\n",
              "      <td>SouthIndian</td>\n",
              "    </tr>\n",
              "    <tr>\n",
              "      <th>3</th>\n",
              "      <td>Andhra</td>\n",
              "      <td>begin make gongura chicken curry recipe prep i...</td>\n",
              "      <td>SouthIndian</td>\n",
              "    </tr>\n",
              "    <tr>\n",
              "      <th>4</th>\n",
              "      <td>Andhra</td>\n",
              "      <td>andhra style alam pachadi heat oil pan add len...</td>\n",
              "      <td>SouthIndian</td>\n",
              "    </tr>\n",
              "    <tr>\n",
              "      <th>...</th>\n",
              "      <td>...</td>\n",
              "      <td>...</td>\n",
              "      <td>...</td>\n",
              "    </tr>\n",
              "    <tr>\n",
              "      <th>5932</th>\n",
              "      <td>Indian</td>\n",
              "      <td>begin make saffron paneer peda recipe paneer r...</td>\n",
              "      <td>Indian</td>\n",
              "    </tr>\n",
              "    <tr>\n",
              "      <th>5933</th>\n",
              "      <td>Italian Recipes</td>\n",
              "      <td>begin make italian arancini rice ball recipe c...</td>\n",
              "      <td>Continental</td>\n",
              "    </tr>\n",
              "    <tr>\n",
              "      <th>5934</th>\n",
              "      <td>Indian</td>\n",
              "      <td>begin make quinoa phirnee recipe place saucepa...</td>\n",
              "      <td>Indian</td>\n",
              "    </tr>\n",
              "    <tr>\n",
              "      <th>5935</th>\n",
              "      <td>Andhra</td>\n",
              "      <td>begin make ullikadala pulusu recipe spring oni...</td>\n",
              "      <td>SouthIndian</td>\n",
              "    </tr>\n",
              "    <tr>\n",
              "      <th>5936</th>\n",
              "      <td>Kashmiri</td>\n",
              "      <td>begin make kashmiri kokur yakhni recipe wash c...</td>\n",
              "      <td>NorthIndian</td>\n",
              "    </tr>\n",
              "  </tbody>\n",
              "</table>\n",
              "<p>5819 rows × 3 columns</p>\n",
              "</div>\n",
              "      <button class=\"colab-df-convert\" onclick=\"convertToInteractive('df-b132aacc-5506-4e27-9003-037dd4809e71')\"\n",
              "              title=\"Convert this dataframe to an interactive table.\"\n",
              "              style=\"display:none;\">\n",
              "        \n",
              "  <svg xmlns=\"http://www.w3.org/2000/svg\" height=\"24px\"viewBox=\"0 0 24 24\"\n",
              "       width=\"24px\">\n",
              "    <path d=\"M0 0h24v24H0V0z\" fill=\"none\"/>\n",
              "    <path d=\"M18.56 5.44l.94 2.06.94-2.06 2.06-.94-2.06-.94-.94-2.06-.94 2.06-2.06.94zm-11 1L8.5 8.5l.94-2.06 2.06-.94-2.06-.94L8.5 2.5l-.94 2.06-2.06.94zm10 10l.94 2.06.94-2.06 2.06-.94-2.06-.94-.94-2.06-.94 2.06-2.06.94z\"/><path d=\"M17.41 7.96l-1.37-1.37c-.4-.4-.92-.59-1.43-.59-.52 0-1.04.2-1.43.59L10.3 9.45l-7.72 7.72c-.78.78-.78 2.05 0 2.83L4 21.41c.39.39.9.59 1.41.59.51 0 1.02-.2 1.41-.59l7.78-7.78 2.81-2.81c.8-.78.8-2.07 0-2.86zM5.41 20L4 18.59l7.72-7.72 1.47 1.35L5.41 20z\"/>\n",
              "  </svg>\n",
              "      </button>\n",
              "      \n",
              "  <style>\n",
              "    .colab-df-container {\n",
              "      display:flex;\n",
              "      flex-wrap:wrap;\n",
              "      gap: 12px;\n",
              "    }\n",
              "\n",
              "    .colab-df-convert {\n",
              "      background-color: #E8F0FE;\n",
              "      border: none;\n",
              "      border-radius: 50%;\n",
              "      cursor: pointer;\n",
              "      display: none;\n",
              "      fill: #1967D2;\n",
              "      height: 32px;\n",
              "      padding: 0 0 0 0;\n",
              "      width: 32px;\n",
              "    }\n",
              "\n",
              "    .colab-df-convert:hover {\n",
              "      background-color: #E2EBFA;\n",
              "      box-shadow: 0px 1px 2px rgba(60, 64, 67, 0.3), 0px 1px 3px 1px rgba(60, 64, 67, 0.15);\n",
              "      fill: #174EA6;\n",
              "    }\n",
              "\n",
              "    [theme=dark] .colab-df-convert {\n",
              "      background-color: #3B4455;\n",
              "      fill: #D2E3FC;\n",
              "    }\n",
              "\n",
              "    [theme=dark] .colab-df-convert:hover {\n",
              "      background-color: #434B5C;\n",
              "      box-shadow: 0px 1px 3px 1px rgba(0, 0, 0, 0.15);\n",
              "      filter: drop-shadow(0px 1px 2px rgba(0, 0, 0, 0.3));\n",
              "      fill: #FFFFFF;\n",
              "    }\n",
              "  </style>\n",
              "\n",
              "      <script>\n",
              "        const buttonEl =\n",
              "          document.querySelector('#df-b132aacc-5506-4e27-9003-037dd4809e71 button.colab-df-convert');\n",
              "        buttonEl.style.display =\n",
              "          google.colab.kernel.accessAllowed ? 'block' : 'none';\n",
              "\n",
              "        async function convertToInteractive(key) {\n",
              "          const element = document.querySelector('#df-b132aacc-5506-4e27-9003-037dd4809e71');\n",
              "          const dataTable =\n",
              "            await google.colab.kernel.invokeFunction('convertToInteractive',\n",
              "                                                     [key], {});\n",
              "          if (!dataTable) return;\n",
              "\n",
              "          const docLinkHtml = 'Like what you see? Visit the ' +\n",
              "            '<a target=\"_blank\" href=https://colab.research.google.com/notebooks/data_table.ipynb>data table notebook</a>'\n",
              "            + ' to learn more about interactive tables.';\n",
              "          element.innerHTML = '';\n",
              "          dataTable['output_type'] = 'display_data';\n",
              "          await google.colab.output.renderOutput(dataTable, element);\n",
              "          const docLink = document.createElement('div');\n",
              "          docLink.innerHTML = docLinkHtml;\n",
              "          element.appendChild(docLink);\n",
              "        }\n",
              "      </script>\n",
              "    </div>\n",
              "  </div>\n",
              "  "
            ]
          },
          "metadata": {},
          "execution_count": 26
        }
      ],
      "source": [
        "df"
      ]
    },
    {
      "cell_type": "code",
      "execution_count": 27,
      "metadata": {
        "colab": {
          "base_uri": "https://localhost:8080/"
        },
        "id": "1-ODVQ_Yuorf",
        "outputId": "b8d03057-d605-40df-b561-021f5246f2a6"
      },
      "outputs": [
        {
          "output_type": "execute_result",
          "data": {
            "text/plain": [
              "15"
            ]
          },
          "metadata": {},
          "execution_count": 27
        }
      ],
      "source": [
        "len(df.MajorCuisine.unique())"
      ]
    },
    {
      "cell_type": "markdown",
      "source": [
        "#**Training our own model to get word embeddings**"
      ],
      "metadata": {
        "id": "ZfSvkud-RtMg"
      }
    },
    {
      "cell_type": "code",
      "execution_count": 29,
      "metadata": {
        "id": "pMVYiNHE2jrx"
      },
      "outputs": [],
      "source": [
        "df.to_csv(\"food_receipes.txt\", columns=[\"TranslatedInstructions\"], header=None, index=False)"
      ]
    },
    {
      "cell_type": "code",
      "execution_count": 30,
      "metadata": {
        "id": "xd8eJefE2qfy"
      },
      "outputs": [],
      "source": [
        "model = fasttext.train_unsupervised(\"food_receipes.txt\")"
      ]
    },
    {
      "cell_type": "code",
      "execution_count": 31,
      "metadata": {
        "colab": {
          "base_uri": "https://localhost:8080/"
        },
        "id": "-JgTWD1S2uIQ",
        "outputId": "4715d133-92be-4a0b-f048-799fe843d829"
      },
      "outputs": [
        {
          "output_type": "execute_result",
          "data": {
            "text/plain": [
              "[(0.9128152132034302, 'agathi'),\n",
              " (0.905288815498352, 'fansi'),\n",
              " (0.8733782768249512, 'sukhi'),\n",
              " (0.870522677898407, 'saagu'),\n",
              " (0.8660719394683838, 'tuvar'),\n",
              " (0.8625310659408569, 'kumani'),\n",
              " (0.8597847819328308, 'sai'),\n",
              " (0.8576173186302185, 'bhoplya'),\n",
              " (0.8574605584144592, 'shaak'),\n",
              " (0.8571075201034546, 'chawli')]"
            ]
          },
          "metadata": {},
          "execution_count": 31
        }
      ],
      "source": [
        "model.get_nearest_neighbors(\"saragva\")"
      ]
    },
    {
      "cell_type": "markdown",
      "source": [
        "#**using fasttext for prediction**"
      ],
      "metadata": {
        "id": "VhPs0GLVS-FC"
      }
    },
    {
      "cell_type": "code",
      "execution_count": 32,
      "metadata": {
        "id": "1J4kAfos3ysq"
      },
      "outputs": [],
      "source": [
        "import numpy as np\n",
        "from sklearn.model_selection import train_test_split\n",
        "xtrain, xtest, ytrain, ytest = train_test_split(df['TranslatedInstructions'], df['MajorCuisine'], test_size=0.33, random_state=42)"
      ]
    },
    {
      "cell_type": "code",
      "execution_count": 35,
      "metadata": {
        "id": "vvEtHdtkCLoZ"
      },
      "outputs": [],
      "source": [
        "train_data=pd.DataFrame()\n",
        "test_data=pd.DataFrame()"
      ]
    },
    {
      "cell_type": "code",
      "execution_count": 36,
      "metadata": {
        "id": "qyIxVkc7CLw0"
      },
      "outputs": [],
      "source": [
        "train_data[\"xtrain\"] = xtrain.values\n",
        "train_data[\"ytrain\"] = ytrain.values\n",
        "test_data[\"xtest\"] = xtest.values\n",
        "test_data[\"ytest\"] = ytest.values"
      ]
    },
    {
      "cell_type": "code",
      "execution_count": 37,
      "metadata": {
        "id": "46r76lgXIpvT"
      },
      "outputs": [],
      "source": [
        "train_data[['xtrain', 'ytrain']].to_csv('train.txt',\n",
        "                                          index = False,\n",
        "                                          sep = ' ',\n",
        "                                          header = None,\n",
        "                                          escapechar = \" \")"
      ]
    },
    {
      "cell_type": "code",
      "execution_count": 38,
      "metadata": {
        "id": "d0DPt00nJDBh"
      },
      "outputs": [],
      "source": [
        "test_data[['xtest', 'ytest']].to_csv('test.txt',\n",
        "                                          index = False,\n",
        "                                          sep = ' ',\n",
        "                                          header = None,\n",
        "                                          escapechar = \" \")"
      ]
    },
    {
      "cell_type": "code",
      "execution_count": 39,
      "metadata": {
        "id": "GRSxgXQ10krU"
      },
      "outputs": [],
      "source": [
        "with open('train.txt', 'w', encoding='utf-8') as file:\n",
        "    for _, row in df.iterrows():\n",
        "        label = '__label__' + row['MajorCuisine']\n",
        "        text = row['TranslatedInstructions']\n",
        "        line = f\"{label} {text}\"\n",
        "        file.write(line + '\\n')"
      ]
    },
    {
      "cell_type": "code",
      "execution_count": 40,
      "metadata": {
        "id": "8OUqEnQX0JWX"
      },
      "outputs": [],
      "source": [
        "with open('test.txt', 'w', encoding='utf-8') as file:\n",
        "    for _, row in df.iterrows():\n",
        "        label = '__label__' + row['MajorCuisine']\n",
        "        text = row['TranslatedInstructions']\n",
        "        line = f\"{label} {text}\"\n",
        "        file.write(line + '\\n')"
      ]
    },
    {
      "cell_type": "code",
      "execution_count": 41,
      "metadata": {
        "id": "pb81HTtrymxR"
      },
      "outputs": [],
      "source": [
        "model1 = fasttext.train_supervised(input=\"train.txt\", lr=0.1, epoch=25, dim=100)"
      ]
    },
    {
      "cell_type": "code",
      "execution_count": 42,
      "metadata": {
        "colab": {
          "base_uri": "https://localhost:8080/"
        },
        "id": "WkT5wbYc9T3x",
        "outputId": "b5015076-3593-4716-e67c-a966fedd7fea"
      },
      "outputs": [
        {
          "output_type": "stream",
          "name": "stdout",
          "text": [
            "Test Accuracy: (5819, 0.8264306581886922, 0.8264306581886922)\n"
          ]
        }
      ],
      "source": [
        "result = model1.test(\"test.txt\")\n",
        "print(\"Test Accuracy:\", result)"
      ]
    },
    {
      "cell_type": "code",
      "execution_count": 43,
      "metadata": {
        "id": "COss7upAKe3y",
        "colab": {
          "base_uri": "https://localhost:8080/",
          "height": 122
        },
        "outputId": "d3631ceb-8c2a-4051-fa3c-20843d741885"
      },
      "outputs": [
        {
          "output_type": "execute_result",
          "data": {
            "text/plain": [
              "'begin make spinach foxtail millet dhokla recipe prepare dhokla steamer fill water grease dhokla plate aside grind spinach cumin seed green chilli ginger mixer add water smooth puree combine foxtail millet flour besan spinach puree yogurt little salt large mixing bowl add little water time thick batter approximately 1 1 2 cup allow mixture rest 5 minute stir eno fruit salt pour dhokla batter grease dhokla platespreheat steamer water place dhokla batter steam steam high heat 10 minute toothpick insert center come clean steam remove spinach foxtail millet dhokla steamer aside 5 minute heat oil tadka pan add mustard seed sesame seed curry leave allow crackle turn heat pour seasoning dhokla cut square diamond serve ragi rava dhokla recipe green chutney idli milagai podi send school lunch box kid love'"
            ],
            "application/vnd.google.colaboratory.intrinsic+json": {
              "type": "string"
            }
          },
          "metadata": {},
          "execution_count": 43
        }
      ],
      "source": [
        "test_data.iloc[2,0]"
      ]
    },
    {
      "cell_type": "code",
      "execution_count": 44,
      "metadata": {
        "id": "PNMG04XbN5kM",
        "colab": {
          "base_uri": "https://localhost:8080/"
        },
        "outputId": "62d21ae8-cd79-4939-a149-75042bb09495"
      },
      "outputs": [
        {
          "output_type": "execute_result",
          "data": {
            "text/plain": [
              "(('__label__NorthIndian',), array([0.96871531]))"
            ]
          },
          "metadata": {},
          "execution_count": 44
        }
      ],
      "source": [
        "model1.predict(test_data.iloc[2, 0])"
      ]
    },
    {
      "cell_type": "code",
      "source": [
        "test_data.iloc[2,1]"
      ],
      "metadata": {
        "colab": {
          "base_uri": "https://localhost:8080/",
          "height": 36
        },
        "id": "U22i9AvhUF4O",
        "outputId": "4f3b51df-8f5b-4bf4-8e26-24b859188134"
      },
      "execution_count": 46,
      "outputs": [
        {
          "output_type": "execute_result",
          "data": {
            "text/plain": [
              "'NorthIndian'"
            ],
            "application/vnd.google.colaboratory.intrinsic+json": {
              "type": "string"
            }
          },
          "metadata": {},
          "execution_count": 46
        }
      ]
    },
    {
      "cell_type": "code",
      "execution_count": 47,
      "metadata": {
        "id": "DlL48NiPSqFA"
      },
      "outputs": [],
      "source": [
        "text='''Wash the rice, urad dal, chana dal, and fenugreek seeds together. Soak them in water for around 5 to 6 hours.\n",
        "Drain the water and transfer the soaked ingredients to a blender. Grind them together to make a smooth batter. Add water as needed to achieve a pouring consistency.\n",
        "Add salt to the batter and mix well. Allow the batter to ferment overnight or for at least 8 hours. Fermentation helps in achieving the characteristic tangy flavor of dosas.\n",
        "For the potato filling, heat oil in a pan over medium heat. Add mustard seeds and let them splutter. Then add asafoetida, curry leaves (if using), and green chilies. Sauté for a minute.\n",
        "Add chopped onions and cook until they turn translucent.\n",
        "Add turmeric powder and mix well. Then add the mashed potatoes and salt. Mix everything together, ensuring that the spices are evenly distributed. Cook for a few minutes, stirring occasionally. Remove from heat and set aside.\n",
        "Heat a non-stick dosa tawa (griddle) or a regular frying pan over medium heat. Grease the tawa with a few drops of oil.\n",
        "Pour a ladleful of the dosa batter onto the center of the tawa. Using the back of the ladle, spread the batter in a circular motion to form a thin, even layer.\n",
        "Drizzle a few drops of oil around the dosa and cook until the edges turn golden brown and crispy. Flip the dosa and cook the other side for a minute.\n",
        "Repeat the process for the remaining batter, making dosas one at a time.\n",
        "Serve the dosas hot with a scoop of potato filling placed in the center. Optionally, spread some butter on the dosa before adding the filling.\n",
        "Serve with sambar and coconut chutney on the side.'''"
      ]
    },
    {
      "cell_type": "code",
      "source": [
        "text=preprocess(text)"
      ],
      "metadata": {
        "id": "hAidYsVuTr0i"
      },
      "execution_count": 48,
      "outputs": []
    },
    {
      "cell_type": "code",
      "source": [
        "text=preprocess1(text)"
      ],
      "metadata": {
        "id": "AhuZR0SmTy_9"
      },
      "execution_count": 49,
      "outputs": []
    },
    {
      "cell_type": "code",
      "source": [
        "model1.predict(text)"
      ],
      "metadata": {
        "colab": {
          "base_uri": "https://localhost:8080/"
        },
        "id": "IS9tmlQKT2HF",
        "outputId": "2af0dc94-4b42-4cdd-8d81-e8af3792e4dc"
      },
      "execution_count": 50,
      "outputs": [
        {
          "output_type": "execute_result",
          "data": {
            "text/plain": [
              "(('__label__SouthIndian',), array([0.87865114]))"
            ]
          },
          "metadata": {},
          "execution_count": 50
        }
      ]
    },
    {
      "cell_type": "code",
      "source": [
        "text='''In a large skillet, heat the vegetable oil over medium heat. Add the diced onion and bell pepper and cook until they become tender, usually around 5 minutes. Add the shredded chicken, chili powder, cumin, salt, and pepper to the skillet. Stir well to combine and cook for an additional 2-3 minutes to heat the chicken through.\n",
        "Remove the skillet from heat and stir in half of the enchilada sauce, sour cream, and half of the shredded cheese. Mix until the ingredients are well combined.\n",
        "Warm the flour tortillas slightly to make them more pliable. You can either wrap them in a damp paper towel and microwave them for a few seconds or heat them in a dry skillet for a short time on each side.\n",
        "Spoon the chicken mixture onto each tortilla, spreading it along the center. Roll up the tortilla tightly and place it seam-side down in a greased baking dish.\n",
        "Repeat the process for the remaining tortillas and chicken mixture, lining them up in the baking dish side by side.\n",
        "Pour the remaining enchilada sauce over the rolled tortillas, making sure they are evenly coated. Sprinkle the remaining shredded cheese over the top.\n",
        "Place the baking dish in the preheated oven and bake for approximately 20 minutes or until the cheese has melted and the enchiladas are heated through.\n",
        "Once done, remove the dish from the oven and let it cool for a few minutes. Sprinkle chopped cilantro over the top as a garnish.\n",
        "Serve the chicken enchiladas hot with your choice of optional toppings, such as diced tomatoes, chopped green onions, sliced jalapeños, sliced black olives, and avocado slices.'''"
      ],
      "metadata": {
        "id": "snaSfDmIUIWy"
      },
      "execution_count": 52,
      "outputs": []
    },
    {
      "cell_type": "code",
      "source": [
        "text=preprocess(text)"
      ],
      "metadata": {
        "id": "_fflyO_MU5LK"
      },
      "execution_count": 53,
      "outputs": []
    },
    {
      "cell_type": "code",
      "source": [
        "text=preprocess1(text)"
      ],
      "metadata": {
        "id": "imDVPImuU-bF"
      },
      "execution_count": 54,
      "outputs": []
    },
    {
      "cell_type": "code",
      "source": [
        "model1.predict(text)"
      ],
      "metadata": {
        "colab": {
          "base_uri": "https://localhost:8080/"
        },
        "id": "pPPnJ8AuVAaq",
        "outputId": "10c18ab3-ea16-4e49-88ae-5de775616d8d"
      },
      "execution_count": 55,
      "outputs": [
        {
          "output_type": "execute_result",
          "data": {
            "text/plain": [
              "(('__label__Mexican',), array([0.25801721]))"
            ]
          },
          "metadata": {},
          "execution_count": 55
        }
      ]
    },
    {
      "cell_type": "code",
      "source": [],
      "metadata": {
        "id": "GmmEaaPrVDFb"
      },
      "execution_count": null,
      "outputs": []
    }
  ],
  "metadata": {
    "accelerator": "GPU",
    "colab": {
      "provenance": [],
      "mount_file_id": "1zmqBLuJ1qD3E3lbrMPglyTu9XDVRCECH",
      "authorship_tag": "ABX9TyPHFCzAoCsmKmh05fP06r9B",
      "include_colab_link": true
    },
    "kernelspec": {
      "display_name": "Python 3",
      "name": "python3"
    },
    "language_info": {
      "name": "python"
    }
  },
  "nbformat": 4,
  "nbformat_minor": 0
}
