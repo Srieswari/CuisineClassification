{
  "cells": [
    {
      "cell_type": "markdown",
      "metadata": {
        "id": "view-in-github",
        "colab_type": "text"
      },
      "source": [
        "<a href=\"https://colab.research.google.com/github/Srieswari/CuisinePred/blob/main/Cuisine_Prediction.ipynb\" target=\"_parent\"><img src=\"https://colab.research.google.com/assets/colab-badge.svg\" alt=\"Open In Colab\"/></a>"
      ]
    },
    {
      "cell_type": "code",
      "execution_count": null,
      "metadata": {
        "colab": {
          "background_save": true,
          "base_uri": "https://localhost:8080/"
        },
        "id": "rZ4flOc_R-ZA",
        "outputId": "2097b1d4-6073-40d4-dd02-db3028dd7fa3"
      },
      "outputs": [
        {
          "name": "stdout",
          "output_type": "stream",
          "text": [
            "Collecting fasttext\n",
            "  Downloading fasttext-0.9.2.tar.gz (68 kB)\n",
            "\u001b[?25l     \u001b[90m━━━━━━━━━━━━━━━━━━━━━━━━━━━━━━━━━━━━━━━━\u001b[0m \u001b[32m0.0/68.8 kB\u001b[0m \u001b[31m?\u001b[0m eta \u001b[36m-:--:--\u001b[0m\r\u001b[2K     \u001b[90m━━━━━━━━━━━━━━━━━━━━━━━━━━━━━━━━━━━━━━━━\u001b[0m \u001b[32m68.8/68.8 kB\u001b[0m \u001b[31m6.7 MB/s\u001b[0m eta \u001b[36m0:00:00\u001b[0m\n",
            "\u001b[?25h  Preparing metadata (setup.py) ... \u001b[?25l\u001b[?25hdone\n",
            "Collecting pybind11>=2.2 (from fasttext)\n",
            "  Using cached pybind11-2.10.4-py3-none-any.whl (222 kB)\n",
            "Requirement already satisfied: setuptools>=0.7.0 in /usr/local/lib/python3.10/dist-packages (from fasttext) (67.7.2)\n",
            "Requirement already satisfied: numpy in /usr/local/lib/python3.10/dist-packages (from fasttext) (1.22.4)\n",
            "Building wheels for collected packages: fasttext\n",
            "  Building wheel for fasttext (setup.py) ... \u001b[?25l\u001b[?25hdone\n",
            "  Created wheel for fasttext: filename=fasttext-0.9.2-cp310-cp310-linux_x86_64.whl size=4393445 sha256=d2462b6b9dfdac6d0042ee9ce81d2581127627aa72397920a1897768a53dd64c\n",
            "  Stored in directory: /root/.cache/pip/wheels/a5/13/75/f811c84a8ab36eedbaef977a6a58a98990e8e0f1967f98f394\n",
            "Successfully built fasttext\n",
            "Installing collected packages: pybind11, fasttext\n",
            "Successfully installed fasttext-0.9.2 pybind11-2.10.4\n"
          ]
        }
      ],
      "source": [
        "!pip install fasttext\n",
        "import fasttext"
      ]
    },
    {
      "cell_type": "code",
      "execution_count": null,
      "metadata": {
        "id": "IlXH8jRj6b7p"
      },
      "outputs": [],
      "source": [
        "# !wget https://dl.fbaipublicfiles.com/fasttext/vectors-crawl/cc.en.300.bin.gz"
      ]
    },
    {
      "cell_type": "code",
      "execution_count": null,
      "metadata": {
        "id": "e_hmKtxR6fNn"
      },
      "outputs": [],
      "source": [
        "# !gunzip cc.en.300.bin.gz"
      ]
    },
    {
      "cell_type": "code",
      "execution_count": null,
      "metadata": {
        "id": "f1w6kX1i38Mt"
      },
      "outputs": [],
      "source": [
        "# model_en = fasttext.load_model(\"cc.en.300.bin\")\n",
        "# model_en.get_nearest_neighbors('good')"
      ]
    },
    {
      "cell_type": "code",
      "execution_count": null,
      "metadata": {
        "id": "fJqBlpBV7LMl"
      },
      "outputs": [],
      "source": [
        "# model_en.get_nearest_neighbors(\"saragva\")"
      ]
    },
    {
      "cell_type": "code",
      "execution_count": null,
      "metadata": {
        "colab": {
          "background_save": true
        },
        "id": "X2-LGFJCY6gO"
      },
      "outputs": [],
      "source": [
        "import pandas as pd"
      ]
    },
    {
      "cell_type": "markdown",
      "metadata": {
        "id": "EuI1hu3p4SOL"
      },
      "source": [
        "run the following cell to directly read data from git"
      ]
    },
    {
      "cell_type": "code",
      "execution_count": null,
      "metadata": {
        "colab": {
          "background_save": true,
          "base_uri": "https://localhost:8080/"
        },
        "id": "elpi5zqz39L1",
        "outputId": "89382b8a-8f64-40e3-e6a9-2ebdf020e5bf"
      },
      "outputs": [
        {
          "name": "stdout",
          "output_type": "stream",
          "text": [
            "(5937, 9)\n"
          ]
        },
        {
          "data": {
            "text/html": [
              "\n",
              "  <div id=\"df-4cca0b00-f8e8-4800-bdb1-6e929bb46b0a\">\n",
              "    <div class=\"colab-df-container\">\n",
              "      <div>\n",
              "<style scoped>\n",
              "    .dataframe tbody tr th:only-of-type {\n",
              "        vertical-align: middle;\n",
              "    }\n",
              "\n",
              "    .dataframe tbody tr th {\n",
              "        vertical-align: top;\n",
              "    }\n",
              "\n",
              "    .dataframe thead th {\n",
              "        text-align: right;\n",
              "    }\n",
              "</style>\n",
              "<table border=\"1\" class=\"dataframe\">\n",
              "  <thead>\n",
              "    <tr style=\"text-align: right;\">\n",
              "      <th></th>\n",
              "      <th>TranslatedRecipeName</th>\n",
              "      <th>TranslatedIngredients</th>\n",
              "      <th>TotalTimeInMins</th>\n",
              "      <th>Cuisine</th>\n",
              "      <th>TranslatedInstructions</th>\n",
              "      <th>URL</th>\n",
              "      <th>Cleaned-Ingredients</th>\n",
              "      <th>image-url</th>\n",
              "      <th>Ingredient-count</th>\n",
              "    </tr>\n",
              "  </thead>\n",
              "  <tbody>\n",
              "    <tr>\n",
              "      <th>0</th>\n",
              "      <td>Masala Karela Recipe</td>\n",
              "      <td>1 tablespoon Red Chilli powder,3 tablespoon Gr...</td>\n",
              "      <td>45</td>\n",
              "      <td>Indian</td>\n",
              "      <td>To begin making the Masala Karela Recipe,de-se...</td>\n",
              "      <td>https://www.archanaskitchen.com/masala-karela-...</td>\n",
              "      <td>salt,amchur (dry mango powder),karela (bitter ...</td>\n",
              "      <td>https://www.archanaskitchen.com/images/archana...</td>\n",
              "      <td>10</td>\n",
              "    </tr>\n",
              "    <tr>\n",
              "      <th>1</th>\n",
              "      <td>Spicy Tomato Rice (Recipe)</td>\n",
              "      <td>2 teaspoon cashew - or peanuts, 1/2 Teaspoon ...</td>\n",
              "      <td>15</td>\n",
              "      <td>South Indian Recipes</td>\n",
              "      <td>To make tomato puliogere, first cut the tomato...</td>\n",
              "      <td>https://www.archanaskitchen.com/spicy-tomato-r...</td>\n",
              "      <td>tomato,salt,chickpea lentils,green chilli,rice...</td>\n",
              "      <td>https://www.archanaskitchen.com/images/archana...</td>\n",
              "      <td>12</td>\n",
              "    </tr>\n",
              "    <tr>\n",
              "      <th>2</th>\n",
              "      <td>Ragi Semiya Upma Recipe - Ragi Millet Vermicel...</td>\n",
              "      <td>1 Onion - sliced,1 teaspoon White Urad Dal (Sp...</td>\n",
              "      <td>50</td>\n",
              "      <td>South Indian Recipes</td>\n",
              "      <td>To begin making the Ragi Vermicelli Recipe, fi...</td>\n",
              "      <td>https://www.archanaskitchen.com/ragi-vermicell...</td>\n",
              "      <td>salt,rice vermicelli noodles (thin),asafoetida...</td>\n",
              "      <td>https://www.archanaskitchen.com/images/archana...</td>\n",
              "      <td>12</td>\n",
              "    </tr>\n",
              "  </tbody>\n",
              "</table>\n",
              "</div>\n",
              "      <button class=\"colab-df-convert\" onclick=\"convertToInteractive('df-4cca0b00-f8e8-4800-bdb1-6e929bb46b0a')\"\n",
              "              title=\"Convert this dataframe to an interactive table.\"\n",
              "              style=\"display:none;\">\n",
              "        \n",
              "  <svg xmlns=\"http://www.w3.org/2000/svg\" height=\"24px\"viewBox=\"0 0 24 24\"\n",
              "       width=\"24px\">\n",
              "    <path d=\"M0 0h24v24H0V0z\" fill=\"none\"/>\n",
              "    <path d=\"M18.56 5.44l.94 2.06.94-2.06 2.06-.94-2.06-.94-.94-2.06-.94 2.06-2.06.94zm-11 1L8.5 8.5l.94-2.06 2.06-.94-2.06-.94L8.5 2.5l-.94 2.06-2.06.94zm10 10l.94 2.06.94-2.06 2.06-.94-2.06-.94-.94-2.06-.94 2.06-2.06.94z\"/><path d=\"M17.41 7.96l-1.37-1.37c-.4-.4-.92-.59-1.43-.59-.52 0-1.04.2-1.43.59L10.3 9.45l-7.72 7.72c-.78.78-.78 2.05 0 2.83L4 21.41c.39.39.9.59 1.41.59.51 0 1.02-.2 1.41-.59l7.78-7.78 2.81-2.81c.8-.78.8-2.07 0-2.86zM5.41 20L4 18.59l7.72-7.72 1.47 1.35L5.41 20z\"/>\n",
              "  </svg>\n",
              "      </button>\n",
              "      \n",
              "  <style>\n",
              "    .colab-df-container {\n",
              "      display:flex;\n",
              "      flex-wrap:wrap;\n",
              "      gap: 12px;\n",
              "    }\n",
              "\n",
              "    .colab-df-convert {\n",
              "      background-color: #E8F0FE;\n",
              "      border: none;\n",
              "      border-radius: 50%;\n",
              "      cursor: pointer;\n",
              "      display: none;\n",
              "      fill: #1967D2;\n",
              "      height: 32px;\n",
              "      padding: 0 0 0 0;\n",
              "      width: 32px;\n",
              "    }\n",
              "\n",
              "    .colab-df-convert:hover {\n",
              "      background-color: #E2EBFA;\n",
              "      box-shadow: 0px 1px 2px rgba(60, 64, 67, 0.3), 0px 1px 3px 1px rgba(60, 64, 67, 0.15);\n",
              "      fill: #174EA6;\n",
              "    }\n",
              "\n",
              "    [theme=dark] .colab-df-convert {\n",
              "      background-color: #3B4455;\n",
              "      fill: #D2E3FC;\n",
              "    }\n",
              "\n",
              "    [theme=dark] .colab-df-convert:hover {\n",
              "      background-color: #434B5C;\n",
              "      box-shadow: 0px 1px 3px 1px rgba(0, 0, 0, 0.15);\n",
              "      filter: drop-shadow(0px 1px 2px rgba(0, 0, 0, 0.3));\n",
              "      fill: #FFFFFF;\n",
              "    }\n",
              "  </style>\n",
              "\n",
              "      <script>\n",
              "        const buttonEl =\n",
              "          document.querySelector('#df-4cca0b00-f8e8-4800-bdb1-6e929bb46b0a button.colab-df-convert');\n",
              "        buttonEl.style.display =\n",
              "          google.colab.kernel.accessAllowed ? 'block' : 'none';\n",
              "\n",
              "        async function convertToInteractive(key) {\n",
              "          const element = document.querySelector('#df-4cca0b00-f8e8-4800-bdb1-6e929bb46b0a');\n",
              "          const dataTable =\n",
              "            await google.colab.kernel.invokeFunction('convertToInteractive',\n",
              "                                                     [key], {});\n",
              "          if (!dataTable) return;\n",
              "\n",
              "          const docLinkHtml = 'Like what you see? Visit the ' +\n",
              "            '<a target=\"_blank\" href=https://colab.research.google.com/notebooks/data_table.ipynb>data table notebook</a>'\n",
              "            + ' to learn more about interactive tables.';\n",
              "          element.innerHTML = '';\n",
              "          dataTable['output_type'] = 'display_data';\n",
              "          await google.colab.output.renderOutput(dataTable, element);\n",
              "          const docLink = document.createElement('div');\n",
              "          docLink.innerHTML = docLinkHtml;\n",
              "          element.appendChild(docLink);\n",
              "        }\n",
              "      </script>\n",
              "    </div>\n",
              "  </div>\n",
              "  "
            ],
            "text/plain": [
              "                                TranslatedRecipeName  \\\n",
              "0                               Masala Karela Recipe   \n",
              "1                         Spicy Tomato Rice (Recipe)   \n",
              "2  Ragi Semiya Upma Recipe - Ragi Millet Vermicel...   \n",
              "\n",
              "                               TranslatedIngredients  TotalTimeInMins  \\\n",
              "0  1 tablespoon Red Chilli powder,3 tablespoon Gr...               45   \n",
              "1   2 teaspoon cashew - or peanuts, 1/2 Teaspoon ...               15   \n",
              "2  1 Onion - sliced,1 teaspoon White Urad Dal (Sp...               50   \n",
              "\n",
              "                Cuisine                             TranslatedInstructions  \\\n",
              "0                Indian  To begin making the Masala Karela Recipe,de-se...   \n",
              "1  South Indian Recipes  To make tomato puliogere, first cut the tomato...   \n",
              "2  South Indian Recipes  To begin making the Ragi Vermicelli Recipe, fi...   \n",
              "\n",
              "                                                 URL  \\\n",
              "0  https://www.archanaskitchen.com/masala-karela-...   \n",
              "1  https://www.archanaskitchen.com/spicy-tomato-r...   \n",
              "2  https://www.archanaskitchen.com/ragi-vermicell...   \n",
              "\n",
              "                                 Cleaned-Ingredients  \\\n",
              "0  salt,amchur (dry mango powder),karela (bitter ...   \n",
              "1  tomato,salt,chickpea lentils,green chilli,rice...   \n",
              "2  salt,rice vermicelli noodles (thin),asafoetida...   \n",
              "\n",
              "                                           image-url  Ingredient-count  \n",
              "0  https://www.archanaskitchen.com/images/archana...                10  \n",
              "1  https://www.archanaskitchen.com/images/archana...                12  \n",
              "2  https://www.archanaskitchen.com/images/archana...                12  "
            ]
          },
          "execution_count": 3,
          "metadata": {},
          "output_type": "execute_result"
        }
      ],
      "source": [
        "url = 'https://raw.githubusercontent.com/Srieswari/NLP/main/indian_food.csv'\n",
        "df = pd.read_csv(url)\n",
        "print(df.shape)\n",
        "df.head(3)"
      ]
    },
    {
      "cell_type": "markdown",
      "metadata": {
        "id": "Jeamu6p80w8c"
      },
      "source": [
        "here we can see that the pretrained model was not helping in getting similar words for a food item , so we can train our model according to our requirement"
      ]
    },
    {
      "cell_type": "code",
      "execution_count": null,
      "metadata": {
        "id": "XFffyb3CSBTe"
      },
      "outputs": [],
      "source": [
        "# df = pd.read_csv(\"/content/indian_food.csv\")\n",
        "# print(df.shape)\n",
        "# df.head(3)"
      ]
    },
    {
      "cell_type": "code",
      "execution_count": null,
      "metadata": {
        "colab": {
          "background_save": true
        },
        "id": "r7t0KzI5qrvs"
      },
      "outputs": [],
      "source": [
        "columns=['Cuisine','TranslatedInstructions']\n",
        "df=df[columns]"
      ]
    },
    {
      "cell_type": "code",
      "execution_count": null,
      "metadata": {
        "id": "rZpgUKYlUPQ5"
      },
      "outputs": [],
      "source": [
        "import re\n",
        "def preprocess(text):\n",
        "    text = re.sub(r'[^\\w\\s\\']',' ', text)\n",
        "    text = re.sub(r'[ \\n]+', ' ', text)\n",
        "    return text.strip().lower()"
      ]
    },
    {
      "cell_type": "code",
      "execution_count": null,
      "metadata": {
        "colab": {
          "base_uri": "https://localhost:8080/"
        },
        "id": "ZYTObVoN2OYT",
        "outputId": "12f0b4e4-db6b-41bc-d8bf-07c7737a59ca"
      },
      "outputs": [
        {
          "data": {
            "application/vnd.google.colaboratory.intrinsic+json": {
              "type": "string"
            },
            "text/plain": [
              "'To begin making the Masala Karela Recipe,de-seed the karela and slice.\\nDo not remove the skin as the skin has all the nutrients.\\nAdd the karela to the pressure cooker with 3 tablespoon of water, salt and turmeric powder and pressure cook for three whistles.\\nRelease the pressure immediately and open the lids.\\nKeep aside.Heat oil in a heavy bottomed pan or a kadhai.\\nAdd cumin seeds and let it sizzle.Once the cumin seeds have sizzled, add onions and saute them till it turns golden brown in color.Add the karela, red chilli powder, amchur powder, coriander powder and besan.\\nStir to combine the masalas into the karela.Drizzle a little extra oil on the top and mix again.\\nCover the pan and simmer Masala Karela stirring occasionally until everything comes together well.\\nTurn off the heat.Transfer Masala Karela into a serving bowl and serve.Serve Masala Karela along with Panchmel Dal and Phulka for a weekday meal with your family.\\n'"
            ]
          },
          "execution_count": 11,
          "metadata": {},
          "output_type": "execute_result"
        }
      ],
      "source": [
        "df.TranslatedInstructions[0]"
      ]
    },
    {
      "cell_type": "code",
      "execution_count": null,
      "metadata": {
        "id": "5vE3AcOD2JaU"
      },
      "outputs": [],
      "source": [
        "df.TranslatedInstructions = df.TranslatedInstructions.map(preprocess)"
      ]
    },
    {
      "cell_type": "code",
      "execution_count": null,
      "metadata": {
        "id": "PrID4VMJ0Lm3"
      },
      "outputs": [],
      "source": [
        "import spacy\n",
        "nlp = spacy.load('en_core_web_sm')"
      ]
    },
    {
      "cell_type": "code",
      "execution_count": null,
      "metadata": {
        "id": "GnfxrLQ-6uON"
      },
      "outputs": [],
      "source": [
        "def preprocess1(text):\n",
        "    doc = nlp(text)\n",
        "    return \" \".join([token.lemma_ for token in doc if not token.is_stop])"
      ]
    },
    {
      "cell_type": "code",
      "execution_count": null,
      "metadata": {
        "colab": {
          "background_save": true
        },
        "id": "BqIriFPoydBo"
      },
      "outputs": [],
      "source": [
        "df.TranslatedInstructions  = df.TranslatedInstructions.map(preprocess1)"
      ]
    },
    {
      "cell_type": "code",
      "execution_count": null,
      "metadata": {
        "colab": {
          "background_save": true
        },
        "id": "viUQb7i02bNd",
        "outputId": "f71748b1-058b-4aeb-cde3-fd082b4fbe7e"
      },
      "outputs": [
        {
          "data": {
            "application/vnd.google.colaboratory.intrinsic+json": {
              "type": "string"
            },
            "text/plain": [
              "'begin make masala karela recipe de seed karela slice remove skin skin nutrient add karela pressure cooker 3 tablespoon water salt turmeric powder pressure cook whistle release pressure immediately open lid aside heat oil heavy bottomed pan kadhai add cumin seed let sizzle cumin seed sizzle add onion saute till turn golden brown color add karela red chilli powder amchur powder coriander powder besan stir combine masala karela drizzle little extra oil mix cover pan simmer masala karela stir occasionally come turn heat transfer masala karela serve bowl serve serve masala karela panchmel dal phulka weekday meal family'"
            ]
          },
          "execution_count": 16,
          "metadata": {},
          "output_type": "execute_result"
        }
      ],
      "source": [
        "df.TranslatedInstructions[0]"
      ]
    },
    {
      "cell_type": "code",
      "execution_count": null,
      "metadata": {
        "colab": {
          "background_save": true
        },
        "id": "2d8Qu-4EbtDR"
      },
      "outputs": [],
      "source": [
        "df1=df['Cuisine'].value_counts()"
      ]
    },
    {
      "cell_type": "code",
      "execution_count": null,
      "metadata": {
        "id": "ZSRWW9YDb8Dq"
      },
      "outputs": [],
      "source": [
        "droplist = df1[df1 <= 10].index"
      ]
    },
    {
      "cell_type": "code",
      "execution_count": null,
      "metadata": {
        "id": "OtVYJtXMdX2Z"
      },
      "outputs": [],
      "source": [
        "df = df[~df['Cuisine'].isin(droplist)]"
      ]
    },
    {
      "cell_type": "code",
      "execution_count": null,
      "metadata": {
        "colab": {
          "base_uri": "https://localhost:8080/"
        },
        "id": "1lGI0ufcdoh-",
        "outputId": "b6f2f46c-e679-4e9c-8e4c-dce2ccbb9253"
      },
      "outputs": [
        {
          "data": {
            "text/plain": [
              "Continental                 952\n",
              "Indian                      927\n",
              "North Indian Recipes        763\n",
              "South Indian Recipes        557\n",
              "Italian Recipes             231\n",
              "Maharashtrian Recipes       152\n",
              "Bengali Recipes             150\n",
              "Karnataka                   138\n",
              "Tamil Nadu                  133\n",
              "Kerala Recipes              133\n",
              "Fusion                      130\n",
              "Mexican                     116\n",
              "Andhra                      109\n",
              "Rajasthani                   99\n",
              "Gujarati Recipes﻿            96\n",
              "Goan Recipes                 85\n",
              "Asian                        67\n",
              "Chettinad                    65\n",
              "Thai                         63\n",
              "Punjabi                      61\n",
              "Chinese                      56\n",
              "French                       53\n",
              "Middle Eastern               49\n",
              "Mangalorean                  45\n",
              "Kashmiri                     44\n",
              "Indo Chinese                 43\n",
              "Parsi Recipes                36\n",
              "Awadhi                       33\n",
              "Konkan                       32\n",
              "Sindhi                       30\n",
              "Mediterranean                28\n",
              "Assamese                     28\n",
              "Hyderabadi                   26\n",
              "Oriya Recipes                26\n",
              "Mughlai                      25\n",
              "Bihari                       25\n",
              "European                     20\n",
              "African                      18\n",
              "North East India Recipes     17\n",
              "Greek                        16\n",
              "Himachal                     15\n",
              "Udupi                        15\n",
              "North Karnataka              14\n",
              "Coorg                        14\n",
              "Sri Lankan                   14\n",
              "Japanese                     13\n",
              "Coastal Karnataka            12\n",
              "Uttar Pradesh                12\n",
              "Vietnamese                   11\n",
              "Malabar                      11\n",
              "Lucknowi                     11\n",
              "Name: Cuisine, dtype: int64"
            ]
          },
          "execution_count": 62,
          "metadata": {},
          "output_type": "execute_result"
        }
      ],
      "source": [
        "df['Cuisine'].value_counts()"
      ]
    },
    {
      "cell_type": "code",
      "execution_count": null,
      "metadata": {
        "colab": {
          "base_uri": "https://localhost:8080/"
        },
        "id": "rMrXeJHxf3GL",
        "outputId": "4f4ac349-96ef-4a67-e861-306c30a835dd"
      },
      "outputs": [
        {
          "data": {
            "text/plain": [
              "51"
            ]
          },
          "execution_count": 63,
          "metadata": {},
          "output_type": "execute_result"
        }
      ],
      "source": [
        "len(df['Cuisine'].unique())"
      ]
    },
    {
      "cell_type": "markdown",
      "metadata": {
        "id": "bQngnjsdfk4e"
      },
      "source": [
        "after removing the cusines which didnt had enough recipes also we got 5800 recipes with 51 cuisines do lets try to put these cuisines into major 4-5 categories"
      ]
    },
    {
      "cell_type": "code",
      "execution_count": null,
      "metadata": {
        "colab": {
          "base_uri": "https://localhost:8080/"
        },
        "id": "1KAHjLQPqG__",
        "outputId": "2882b01b-8946-4c0e-b8fe-b242b0975d09"
      },
      "outputs": [
        {
          "name": "stderr",
          "output_type": "stream",
          "text": [
            "<ipython-input-64-57e37675e75f>:1: SettingWithCopyWarning: \n",
            "A value is trying to be set on a copy of a slice from a DataFrame.\n",
            "Try using .loc[row_indexer,col_indexer] = value instead\n",
            "\n",
            "See the caveats in the documentation: https://pandas.pydata.org/pandas-docs/stable/user_guide/indexing.html#returning-a-view-versus-a-copy\n",
            "  df['MajorCuisine'] = df['Cuisine'].replace(['South Indian Recipes','Karnataka','Tamil Nadu','Kerala Recipes','Andhra','Chettinad','Malabar','Mangalorean','Konkan','Hyderabadi','Coorg','Coastal Karnataka'], 'SouthIndian') \\\n"
          ]
        }
      ],
      "source": [
        "df['MajorCuisine'] = df['Cuisine'].replace(['South Indian Recipes','Karnataka','Tamil Nadu','Kerala Recipes','Andhra','Chettinad','Malabar','Mangalorean','Konkan','Hyderabadi','Coorg','Coastal Karnataka'], 'SouthIndian') \\\n",
        ".replace(['North Indian Recipes','Maharashtrian Recipes','Bengali Recipes','Rajasthani','Gujarati Recipes﻿','Punjabi','Kashmiri','Assamese','Lucknowi','Uttar Pradesh','Himachal','Udupi','North Karnataka','North East India Recipes','Bihari','Oriya Recipes','Sindhi','Awadhi','Mughlai'],'NorthIndian') \\\n",
        ".replace(['Continental','European','Italian Recipes','French,Greek'],'Continental') \\\n",
        ".replace(['Fusion','Indo Chinese'],'Fusion') \\\n",
        ".replace(['Asian','Chinese','Japanese'],'Asian') \\\n",
        ".replace(['Indian','Goan Recipes','Parsi Recipes'],'Indian')"
      ]
    },
    {
      "cell_type": "code",
      "execution_count": null,
      "metadata": {
        "colab": {
          "base_uri": "https://localhost:8080/",
          "height": 467
        },
        "id": "Y7eydckNe6dY",
        "outputId": "94066108-e81d-47b7-e395-c701aa87547d"
      },
      "outputs": [
        {
          "data": {
            "text/html": [
              "\n",
              "  <div id=\"df-7d040d13-c403-454b-99de-464bb9214484\">\n",
              "    <div class=\"colab-df-container\">\n",
              "      <div>\n",
              "<style scoped>\n",
              "    .dataframe tbody tr th:only-of-type {\n",
              "        vertical-align: middle;\n",
              "    }\n",
              "\n",
              "    .dataframe tbody tr th {\n",
              "        vertical-align: top;\n",
              "    }\n",
              "\n",
              "    .dataframe thead th {\n",
              "        text-align: right;\n",
              "    }\n",
              "</style>\n",
              "<table border=\"1\" class=\"dataframe\">\n",
              "  <thead>\n",
              "    <tr style=\"text-align: right;\">\n",
              "      <th></th>\n",
              "      <th>Cuisine</th>\n",
              "      <th>TranslatedInstructions</th>\n",
              "      <th>MajorCuisine</th>\n",
              "    </tr>\n",
              "  </thead>\n",
              "  <tbody>\n",
              "    <tr>\n",
              "      <th>0</th>\n",
              "      <td>Indian</td>\n",
              "      <td>begin make masala karela recipe de seed karela...</td>\n",
              "      <td>Indian</td>\n",
              "    </tr>\n",
              "    <tr>\n",
              "      <th>1</th>\n",
              "      <td>South Indian Recipes</td>\n",
              "      <td>tomato puliogere cut tomato mixer grinder pure...</td>\n",
              "      <td>SouthIndian</td>\n",
              "    </tr>\n",
              "    <tr>\n",
              "      <th>2</th>\n",
              "      <td>South Indian Recipes</td>\n",
              "      <td>begin make ragi vermicelli recipe steam ragi v...</td>\n",
              "      <td>SouthIndian</td>\n",
              "    </tr>\n",
              "    <tr>\n",
              "      <th>3</th>\n",
              "      <td>Andhra</td>\n",
              "      <td>begin make gongura chicken curry recipe prep i...</td>\n",
              "      <td>SouthIndian</td>\n",
              "    </tr>\n",
              "    <tr>\n",
              "      <th>4</th>\n",
              "      <td>Andhra</td>\n",
              "      <td>andhra style alam pachadi heat oil pan add len...</td>\n",
              "      <td>SouthIndian</td>\n",
              "    </tr>\n",
              "    <tr>\n",
              "      <th>...</th>\n",
              "      <td>...</td>\n",
              "      <td>...</td>\n",
              "      <td>...</td>\n",
              "    </tr>\n",
              "    <tr>\n",
              "      <th>5932</th>\n",
              "      <td>Indian</td>\n",
              "      <td>begin make saffron paneer peda recipe paneer r...</td>\n",
              "      <td>Indian</td>\n",
              "    </tr>\n",
              "    <tr>\n",
              "      <th>5933</th>\n",
              "      <td>Italian Recipes</td>\n",
              "      <td>begin make italian arancini rice ball recipe c...</td>\n",
              "      <td>Continental</td>\n",
              "    </tr>\n",
              "    <tr>\n",
              "      <th>5934</th>\n",
              "      <td>Indian</td>\n",
              "      <td>begin make quinoa phirnee recipe place saucepa...</td>\n",
              "      <td>Indian</td>\n",
              "    </tr>\n",
              "    <tr>\n",
              "      <th>5935</th>\n",
              "      <td>Andhra</td>\n",
              "      <td>begin make ullikadala pulusu recipe spring oni...</td>\n",
              "      <td>SouthIndian</td>\n",
              "    </tr>\n",
              "    <tr>\n",
              "      <th>5936</th>\n",
              "      <td>Kashmiri</td>\n",
              "      <td>begin make kashmiri kokur yakhni recipe wash c...</td>\n",
              "      <td>NorthIndian</td>\n",
              "    </tr>\n",
              "  </tbody>\n",
              "</table>\n",
              "<p>5819 rows × 3 columns</p>\n",
              "</div>\n",
              "      <button class=\"colab-df-convert\" onclick=\"convertToInteractive('df-7d040d13-c403-454b-99de-464bb9214484')\"\n",
              "              title=\"Convert this dataframe to an interactive table.\"\n",
              "              style=\"display:none;\">\n",
              "        \n",
              "  <svg xmlns=\"http://www.w3.org/2000/svg\" height=\"24px\"viewBox=\"0 0 24 24\"\n",
              "       width=\"24px\">\n",
              "    <path d=\"M0 0h24v24H0V0z\" fill=\"none\"/>\n",
              "    <path d=\"M18.56 5.44l.94 2.06.94-2.06 2.06-.94-2.06-.94-.94-2.06-.94 2.06-2.06.94zm-11 1L8.5 8.5l.94-2.06 2.06-.94-2.06-.94L8.5 2.5l-.94 2.06-2.06.94zm10 10l.94 2.06.94-2.06 2.06-.94-2.06-.94-.94-2.06-.94 2.06-2.06.94z\"/><path d=\"M17.41 7.96l-1.37-1.37c-.4-.4-.92-.59-1.43-.59-.52 0-1.04.2-1.43.59L10.3 9.45l-7.72 7.72c-.78.78-.78 2.05 0 2.83L4 21.41c.39.39.9.59 1.41.59.51 0 1.02-.2 1.41-.59l7.78-7.78 2.81-2.81c.8-.78.8-2.07 0-2.86zM5.41 20L4 18.59l7.72-7.72 1.47 1.35L5.41 20z\"/>\n",
              "  </svg>\n",
              "      </button>\n",
              "      \n",
              "  <style>\n",
              "    .colab-df-container {\n",
              "      display:flex;\n",
              "      flex-wrap:wrap;\n",
              "      gap: 12px;\n",
              "    }\n",
              "\n",
              "    .colab-df-convert {\n",
              "      background-color: #E8F0FE;\n",
              "      border: none;\n",
              "      border-radius: 50%;\n",
              "      cursor: pointer;\n",
              "      display: none;\n",
              "      fill: #1967D2;\n",
              "      height: 32px;\n",
              "      padding: 0 0 0 0;\n",
              "      width: 32px;\n",
              "    }\n",
              "\n",
              "    .colab-df-convert:hover {\n",
              "      background-color: #E2EBFA;\n",
              "      box-shadow: 0px 1px 2px rgba(60, 64, 67, 0.3), 0px 1px 3px 1px rgba(60, 64, 67, 0.15);\n",
              "      fill: #174EA6;\n",
              "    }\n",
              "\n",
              "    [theme=dark] .colab-df-convert {\n",
              "      background-color: #3B4455;\n",
              "      fill: #D2E3FC;\n",
              "    }\n",
              "\n",
              "    [theme=dark] .colab-df-convert:hover {\n",
              "      background-color: #434B5C;\n",
              "      box-shadow: 0px 1px 3px 1px rgba(0, 0, 0, 0.15);\n",
              "      filter: drop-shadow(0px 1px 2px rgba(0, 0, 0, 0.3));\n",
              "      fill: #FFFFFF;\n",
              "    }\n",
              "  </style>\n",
              "\n",
              "      <script>\n",
              "        const buttonEl =\n",
              "          document.querySelector('#df-7d040d13-c403-454b-99de-464bb9214484 button.colab-df-convert');\n",
              "        buttonEl.style.display =\n",
              "          google.colab.kernel.accessAllowed ? 'block' : 'none';\n",
              "\n",
              "        async function convertToInteractive(key) {\n",
              "          const element = document.querySelector('#df-7d040d13-c403-454b-99de-464bb9214484');\n",
              "          const dataTable =\n",
              "            await google.colab.kernel.invokeFunction('convertToInteractive',\n",
              "                                                     [key], {});\n",
              "          if (!dataTable) return;\n",
              "\n",
              "          const docLinkHtml = 'Like what you see? Visit the ' +\n",
              "            '<a target=\"_blank\" href=https://colab.research.google.com/notebooks/data_table.ipynb>data table notebook</a>'\n",
              "            + ' to learn more about interactive tables.';\n",
              "          element.innerHTML = '';\n",
              "          dataTable['output_type'] = 'display_data';\n",
              "          await google.colab.output.renderOutput(dataTable, element);\n",
              "          const docLink = document.createElement('div');\n",
              "          docLink.innerHTML = docLinkHtml;\n",
              "          element.appendChild(docLink);\n",
              "        }\n",
              "      </script>\n",
              "    </div>\n",
              "  </div>\n",
              "  "
            ],
            "text/plain": [
              "                   Cuisine                             TranslatedInstructions  \\\n",
              "0                   Indian  begin make masala karela recipe de seed karela...   \n",
              "1     South Indian Recipes  tomato puliogere cut tomato mixer grinder pure...   \n",
              "2     South Indian Recipes  begin make ragi vermicelli recipe steam ragi v...   \n",
              "3                   Andhra  begin make gongura chicken curry recipe prep i...   \n",
              "4                   Andhra  andhra style alam pachadi heat oil pan add len...   \n",
              "...                    ...                                                ...   \n",
              "5932                Indian  begin make saffron paneer peda recipe paneer r...   \n",
              "5933       Italian Recipes  begin make italian arancini rice ball recipe c...   \n",
              "5934                Indian  begin make quinoa phirnee recipe place saucepa...   \n",
              "5935                Andhra  begin make ullikadala pulusu recipe spring oni...   \n",
              "5936              Kashmiri  begin make kashmiri kokur yakhni recipe wash c...   \n",
              "\n",
              "     MajorCuisine  \n",
              "0          Indian  \n",
              "1     SouthIndian  \n",
              "2     SouthIndian  \n",
              "3     SouthIndian  \n",
              "4     SouthIndian  \n",
              "...           ...  \n",
              "5932       Indian  \n",
              "5933  Continental  \n",
              "5934       Indian  \n",
              "5935  SouthIndian  \n",
              "5936  NorthIndian  \n",
              "\n",
              "[5819 rows x 3 columns]"
            ]
          },
          "execution_count": 65,
          "metadata": {},
          "output_type": "execute_result"
        }
      ],
      "source": [
        "df"
      ]
    },
    {
      "cell_type": "code",
      "execution_count": null,
      "metadata": {
        "colab": {
          "base_uri": "https://localhost:8080/"
        },
        "id": "1-ODVQ_Yuorf",
        "outputId": "515e68e0-f2a9-45cd-8d33-b4feb833d0d6"
      },
      "outputs": [
        {
          "data": {
            "text/plain": [
              "15"
            ]
          },
          "execution_count": 80,
          "metadata": {},
          "output_type": "execute_result"
        }
      ],
      "source": [
        "len(df.MajorCuisine.unique())"
      ]
    },
    {
      "cell_type": "code",
      "execution_count": null,
      "metadata": {
        "id": "pMVYiNHE2jrx"
      },
      "outputs": [],
      "source": [
        "df.to_csv(\"food_receipes.txt\", columns=[\"TranslatedInstructions\"], header=None, index=False)"
      ]
    },
    {
      "cell_type": "code",
      "execution_count": null,
      "metadata": {
        "id": "xd8eJefE2qfy"
      },
      "outputs": [],
      "source": [
        "model = fasttext.train_unsupervised(\"food_receipes.txt\")"
      ]
    },
    {
      "cell_type": "code",
      "execution_count": null,
      "metadata": {
        "colab": {
          "base_uri": "https://localhost:8080/"
        },
        "id": "-JgTWD1S2uIQ",
        "outputId": "2dfb885d-02e1-4f00-dbdd-77dce746a671"
      },
      "outputs": [
        {
          "data": {
            "text/plain": [
              "[(0.9150944948196411, 'agathi'),\n",
              " (0.8901234269142151, 'tuvar'),\n",
              " (0.8738939762115479, 'phanu'),\n",
              " (0.8686066269874573, 'phalguni'),\n",
              " (0.8612421751022339, 'fansi'),\n",
              " (0.8560946583747864, 'saagu'),\n",
              " (0.8516809344291687, 'shaak'),\n",
              " (0.8477616310119629, 'sukhi'),\n",
              " (0.847454845905304, 'chawli'),\n",
              " (0.8452074527740479, 'kulith')]"
            ]
          },
          "execution_count": 57,
          "metadata": {},
          "output_type": "execute_result"
        }
      ],
      "source": [
        "model.get_nearest_neighbors(\"saragva\")"
      ]
    },
    {
      "cell_type": "code",
      "execution_count": null,
      "metadata": {
        "id": "1J4kAfos3ysq"
      },
      "outputs": [],
      "source": [
        "import numpy as np\n",
        "from sklearn.model_selection import train_test_split\n",
        "xtrain, xtest, ytrain, ytest = train_test_split(df['TranslatedInstructions'], df['MajorCuisine'], test_size=0.33, random_state=42)"
      ]
    },
    {
      "cell_type": "code",
      "execution_count": null,
      "metadata": {
        "id": "vvEtHdtkCLoZ"
      },
      "outputs": [],
      "source": [
        "train_data=pd.DataFrame()\n",
        "test_data=pd.DataFrame()"
      ]
    },
    {
      "cell_type": "code",
      "execution_count": null,
      "metadata": {
        "id": "qyIxVkc7CLw0"
      },
      "outputs": [],
      "source": [
        "train_data[\"xtrain\"] = xtrain.values\n",
        "train_data[\"ytrain\"] = ytrain.values\n",
        "test_data[\"xtest\"] = xtest.values\n",
        "test_data[\"ytest\"] = ytest.values"
      ]
    },
    {
      "cell_type": "code",
      "execution_count": null,
      "metadata": {
        "id": "46r76lgXIpvT"
      },
      "outputs": [],
      "source": [
        "train_data[['xtrain', 'ytrain']].to_csv('train.txt',\n",
        "                                          index = False,\n",
        "                                          sep = ' ',\n",
        "                                          header = None,\n",
        "                                          escapechar = \" \")"
      ]
    },
    {
      "cell_type": "code",
      "execution_count": null,
      "metadata": {
        "id": "d0DPt00nJDBh"
      },
      "outputs": [],
      "source": [
        "test_data[['xtest', 'ytest']].to_csv('test.txt',\n",
        "                                          index = False,\n",
        "                                          sep = ' ',\n",
        "                                          header = None,\n",
        "                                          escapechar = \" \")"
      ]
    },
    {
      "cell_type": "code",
      "execution_count": null,
      "metadata": {
        "id": "GRSxgXQ10krU"
      },
      "outputs": [],
      "source": [
        "with open('train.txt', 'w', encoding='utf-8') as file:\n",
        "    for _, row in df.iterrows():\n",
        "        label = '__label__' + row['MajorCuisine']\n",
        "        text = row['TranslatedInstructions']\n",
        "        line = f\"{label} {text}\"\n",
        "        file.write(line + '\\n')"
      ]
    },
    {
      "cell_type": "code",
      "execution_count": null,
      "metadata": {
        "id": "8OUqEnQX0JWX"
      },
      "outputs": [],
      "source": [
        "with open('test.txt', 'w', encoding='utf-8') as file:\n",
        "    for _, row in df.iterrows():\n",
        "        label = '__label__' + row['MajorCuisine']\n",
        "        text = row['TranslatedInstructions']\n",
        "        line = f\"{label} {text}\"\n",
        "        file.write(line + '\\n')"
      ]
    },
    {
      "cell_type": "code",
      "execution_count": null,
      "metadata": {
        "id": "ViqrPxNOEqbZ"
      },
      "outputs": [],
      "source": [
        "model = fasttext.train_unsupervised('train.txt', wordNgrams = 2)"
      ]
    },
    {
      "cell_type": "code",
      "execution_count": null,
      "metadata": {
        "id": "I0sSNBpz82NV"
      },
      "outputs": [],
      "source": [
        "model = fasttext.train_supervised(input=\"train.txt\", epoch=50)\n",
        "# model.save_model('text_classification_model.bin')"
      ]
    },
    {
      "cell_type": "code",
      "execution_count": null,
      "metadata": {
        "id": "pb81HTtrymxR"
      },
      "outputs": [],
      "source": [
        "model1 = fasttext.train_supervised(input=\"train.txt\", lr=0.1, epoch=25, dim=100)"
      ]
    },
    {
      "cell_type": "code",
      "execution_count": null,
      "metadata": {
        "colab": {
          "base_uri": "https://localhost:8080/"
        },
        "id": "WkT5wbYc9T3x",
        "outputId": "898d15fe-529b-47ec-902d-f2b0e3ee49eb"
      },
      "outputs": [
        {
          "name": "stdout",
          "output_type": "stream",
          "text": [
            "Test Accuracy: (0, nan, nan)\n"
          ]
        }
      ],
      "source": [
        "result = model.test(\"test.txt\")\n",
        "print(\"Test Accuracy:\", result)"
      ]
    },
    {
      "cell_type": "code",
      "execution_count": null,
      "metadata": {
        "id": "wzCl6GLMKcDo"
      },
      "outputs": [],
      "source": [
        "# model.test('test.txt')"
      ]
    },
    {
      "cell_type": "code",
      "execution_count": null,
      "metadata": {
        "id": "COss7upAKe3y"
      },
      "outputs": [],
      "source": [
        "# model.predict(test_data.iloc[2, 0])\n",
        "# test_data.iloc[2,0]"
      ]
    },
    {
      "cell_type": "code",
      "execution_count": null,
      "metadata": {
        "id": "PNMG04XbN5kM"
      },
      "outputs": [],
      "source": [
        "model.predict(test_data.iloc[2, 0])"
      ]
    },
    {
      "cell_type": "code",
      "execution_count": null,
      "metadata": {
        "id": "DlL48NiPSqFA"
      },
      "outputs": [],
      "source": []
    }
  ],
  "metadata": {
    "accelerator": "GPU",
    "colab": {
      "provenance": [],
      "mount_file_id": "1zmqBLuJ1qD3E3lbrMPglyTu9XDVRCECH",
      "authorship_tag": "ABX9TyOauuHl4oOT3hRWR4wKOoel",
      "include_colab_link": true
    },
    "kernelspec": {
      "display_name": "Python 3",
      "name": "python3"
    },
    "language_info": {
      "name": "python"
    }
  },
  "nbformat": 4,
  "nbformat_minor": 0
}